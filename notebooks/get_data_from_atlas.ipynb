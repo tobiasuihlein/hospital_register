{
 "cells": [
  {
   "cell_type": "code",
   "execution_count": 1,
   "metadata": {},
   "outputs": [],
   "source": [
    "import pandas as pd\n",
    "import requests\n",
    "from bs4 import BeautifulSoup\n",
    "import time\n",
    "import sys\n",
    "import os\n",
    "\n",
    "# add parent directory to sys.path\n",
    "current_dir = os.getcwd()\n",
    "parent_dir = os.path.dirname(current_dir)\n",
    "sys.path.append(parent_dir)\n",
    "\n",
    "from lib.functions_webscrape_atlas import *\n",
    "\n",
    "pd.set_option('display.max_columns', None)"
   ]
  },
  {
   "cell_type": "markdown",
   "metadata": {},
   "source": [
    "## Load hospital locations"
   ]
  },
  {
   "cell_type": "code",
   "execution_count": 2,
   "metadata": {},
   "outputs": [],
   "source": [
    "df_hospitals = pd.read_json('../data/in/raw/atlas/locations.json', dtype={'zip': str})"
   ]
  },
  {
   "cell_type": "markdown",
   "metadata": {},
   "source": [
    "## Webscrape departments and other details of the hospitals"
   ]
  },
  {
   "cell_type": "code",
   "execution_count": 3,
   "metadata": {},
   "outputs": [],
   "source": [
    "# create new dataframes to store department, nursing staff and total treatment infos for each hospital\n",
    "df_departments = pd.DataFrame(df_hospitals.copy()['link'].apply(lambda x: x.split('/')[-2])).rename(columns={'link': 'hospital_id'})\n",
    "df_details = pd.DataFrame(df_hospitals.copy()['link'].apply(lambda x: x.split('/')[-2])).rename(columns={'link': 'hospital_id'})"
   ]
  },
  {
   "cell_type": "code",
   "execution_count": 4,
   "metadata": {},
   "outputs": [],
   "source": [
    "# get department info for each hospital and store it to dataframe\n",
    "for hospital_id in df_departments.head(50)['hospital_id']:\n",
    "\n",
    "    # load website content for specific hospital\n",
    "    soup = load_hospital_site(hospital_id)\n",
    "\n",
    "    # extract specific data from website content\n",
    "    df_departments = get_departments(df_departments, soup, hospital_id)\n",
    "    df_details = get_details(df_details, soup, hospital_id)\n",
    "    \n",
    "    time.sleep(15) # wait 15 sec between requests as requested by robots.txt of the website"
   ]
  },
  {
   "cell_type": "code",
   "execution_count": 7,
   "metadata": {},
   "outputs": [],
   "source": [
    "# store retrieved data to csv-files\n",
    "df_departments[0:50].to_csv('../data/in/staging/atlas_departments_0-49.csv', index=False, encoding='utf-8')\n",
    "df_details[0:50].to_csv('../data/in/staging/atlas_details_0-49.csv', index=False, encoding='utf-8')"
   ]
  },
  {
   "cell_type": "code",
   "execution_count": 16,
   "metadata": {},
   "outputs": [],
   "source": [
    "df_departments_0_49 = pd.read_csv('../data/in/staging/atlas_departments_0-49.csv')\n",
    "df_details_0_49 = pd.read_csv('../data/in/staging/atlas_details_0-49.csv')"
   ]
  },
  {
   "cell_type": "code",
   "execution_count": 18,
   "metadata": {},
   "outputs": [
    {
     "data": {
      "text/html": [
       "<div>\n",
       "<style scoped>\n",
       "    .dataframe tbody tr th:only-of-type {\n",
       "        vertical-align: middle;\n",
       "    }\n",
       "\n",
       "    .dataframe tbody tr th {\n",
       "        vertical-align: top;\n",
       "    }\n",
       "\n",
       "    .dataframe thead th {\n",
       "        text-align: right;\n",
       "    }\n",
       "</style>\n",
       "<table border=\"1\" class=\"dataframe\">\n",
       "  <thead>\n",
       "    <tr style=\"text-align: right;\">\n",
       "      <th></th>\n",
       "      <th>hospital_id</th>\n",
       "      <th>total_treatment_count_number</th>\n",
       "      <th>total_treatment_count_description</th>\n",
       "      <th>nursing_staff_quotient_number</th>\n",
       "      <th>nursing_staff_quotient_description</th>\n",
       "      <th>provider_type</th>\n",
       "    </tr>\n",
       "  </thead>\n",
       "  <tbody>\n",
       "    <tr>\n",
       "      <th>0</th>\n",
       "      <td>771003</td>\n",
       "      <td>23479.0</td>\n",
       "      <td>sehr viele</td>\n",
       "      <td>60.11</td>\n",
       "      <td>weit unterdurchschnittlich</td>\n",
       "      <td>öffentlich</td>\n",
       "    </tr>\n",
       "    <tr>\n",
       "      <th>1</th>\n",
       "      <td>771011</td>\n",
       "      <td>13563.0</td>\n",
       "      <td>viele</td>\n",
       "      <td>55.68</td>\n",
       "      <td>unterdurchschnittlich</td>\n",
       "      <td>öffentlich</td>\n",
       "    </tr>\n",
       "    <tr>\n",
       "      <th>2</th>\n",
       "      <td>771012</td>\n",
       "      <td>15347.0</td>\n",
       "      <td>viele</td>\n",
       "      <td>48.69</td>\n",
       "      <td>überdurchschnittlich</td>\n",
       "      <td>öffentlich</td>\n",
       "    </tr>\n",
       "  </tbody>\n",
       "</table>\n",
       "</div>"
      ],
      "text/plain": [
       "   hospital_id  total_treatment_count_number  \\\n",
       "0       771003                       23479.0   \n",
       "1       771011                       13563.0   \n",
       "2       771012                       15347.0   \n",
       "\n",
       "  total_treatment_count_description  nursing_staff_quotient_number  \\\n",
       "0                        sehr viele                          60.11   \n",
       "1                             viele                          55.68   \n",
       "2                             viele                          48.69   \n",
       "\n",
       "  nursing_staff_quotient_description provider_type  \n",
       "0         weit unterdurchschnittlich    öffentlich  \n",
       "1              unterdurchschnittlich    öffentlich  \n",
       "2               überdurchschnittlich    öffentlich  "
      ]
     },
     "execution_count": 18,
     "metadata": {},
     "output_type": "execute_result"
    }
   ],
   "source": [
    "df_details_0_49.head(3)"
   ]
  },
  {
   "cell_type": "markdown",
   "metadata": {},
   "source": [
    "## Webscrape specific treatments of the hospitals"
   ]
  },
  {
   "cell_type": "code",
   "execution_count": 49,
   "metadata": {},
   "outputs": [],
   "source": [
    "# create new dataframe to store treatment infos for each hospital\n",
    "df_treatments= pd.DataFrame(df_hospitals.copy()['link'].apply(lambda x: x.split('/')[-2])).rename(columns={'link': 'hospital_id'})"
   ]
  },
  {
   "cell_type": "code",
   "execution_count": 50,
   "metadata": {},
   "outputs": [],
   "source": [
    "treatments_list = ['Chirurgischer Herzklappenersatz', 'Totalendoprothese der Hüfte']\n",
    "treatments_dict = {}\n",
    "for treatment in treatments_list:\n",
    "    treatments_dict[treatment] = treatment.replace(' ', '%20')"
   ]
  },
  {
   "cell_type": "code",
   "execution_count": 51,
   "metadata": {},
   "outputs": [],
   "source": [
    "def get_treatments(df):\n",
    "    for hospital_id in df_treatments['hospital_id'].head(50):\n",
    "        for treatment, treatment_searchlabel in treatments_dict.items():\n",
    "\n",
    "            # GET method\n",
    "            request_url = f'https://bundes-klinik-atlas.de/krankenhaussuche/krankenhaus/{hospital_id}/?tx_tverzhospitaldata_show%5Bquantile%5D=114%2C202%2C253%2C343&tx_tverzhospitaldata_show%5Bsearchlabel%5D={treatment_searchlabel}&tx_tverzhospitaldata_show%5Bsimplesearch%5D=1&tx_tverzhospitaldata_show%5Btreatmentcode%5D=KAHKO0&cHash=6488c3f4b1c6d9c491b41ed9e9c59a11'\n",
    "            response = requests.get(request_url)\n",
    "\n",
    "            # parse HTML\n",
    "            soup = BeautifulSoup(response.content, \"html.parser\")\n",
    "\n",
    "            # extract data\n",
    "            result_list = soup.find_all(name='div', class_='c-tacho-text__text')\n",
    "\n",
    "            # extract treatment count\n",
    "            try:\n",
    "                treatment_count_number = int(result_list[0].contents[1].text.replace('.',''))\n",
    "                treatment_count_description = result_list[0].contents[2].text.replace('(','').replace(')','').strip()\n",
    "            except ValueError:\n",
    "                treatment_count_number = 0\n",
    "                treatment_count_description = 'sehr wenige'\n",
    "\n",
    "            df.loc[df['hospital_id'] == hospital_id, f'treatment_count_number_({treatment})'] = treatment_count_number\n",
    "            df.loc[df['hospital_id'] == hospital_id, f'treatment_count_description_({treatment})'] = treatment_count_description\n",
    "\n",
    "            time.sleep(15)\n",
    "    return df"
   ]
  },
  {
   "cell_type": "code",
   "execution_count": null,
   "metadata": {},
   "outputs": [],
   "source": [
    "df_treatments = get_treatments(df_treatments)"
   ]
  },
  {
   "cell_type": "code",
   "execution_count": 55,
   "metadata": {},
   "outputs": [],
   "source": [
    "df_treatments[0:50].to_csv('../data/in/staging/atlas_treatments_sample_0-49.csv', index=False, encoding='utf-8')"
   ]
  }
 ],
 "metadata": {
  "kernelspec": {
   "display_name": "base",
   "language": "python",
   "name": "python3"
  },
  "language_info": {
   "codemirror_mode": {
    "name": "ipython",
    "version": 3
   },
   "file_extension": ".py",
   "mimetype": "text/x-python",
   "name": "python",
   "nbconvert_exporter": "python",
   "pygments_lexer": "ipython3",
   "version": "3.12.4"
  }
 },
 "nbformat": 4,
 "nbformat_minor": 2
}
