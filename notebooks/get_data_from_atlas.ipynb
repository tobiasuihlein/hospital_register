{
 "cells": [
  {
   "cell_type": "code",
   "execution_count": 1,
   "metadata": {},
   "outputs": [],
   "source": [
    "import pandas as pd\n",
    "import requests\n",
    "from bs4 import BeautifulSoup\n",
    "import time\n",
    "pd.set_option('display.max_columns', None)"
   ]
  },
  {
   "cell_type": "markdown",
   "metadata": {},
   "source": [
    "### Load hospital base directory"
   ]
  },
  {
   "cell_type": "code",
   "execution_count": 2,
   "metadata": {},
   "outputs": [],
   "source": [
    "df_hospitals = pd.read_json('../data/in/raw/atlas/locations.json', dtype={'zip': str})"
   ]
  },
  {
   "cell_type": "markdown",
   "metadata": {},
   "source": [
    "### Webscrape departments and other details of the hospitals"
   ]
  },
  {
   "cell_type": "code",
   "execution_count": 8,
   "metadata": {},
   "outputs": [],
   "source": [
    "# create new dataframes to store department, nursing staff and total treatment infos for each hospital\n",
    "df_departments = pd.DataFrame(df_hospitals.copy()['link'].apply(lambda x: x.split('/')[-2])).rename(columns={'link': 'hospital_id'})\n",
    "df_details = pd.DataFrame(df_hospitals.copy()['link'].apply(lambda x: x.split('/')[-2])).rename(columns={'link': 'hospital_id'})"
   ]
  },
  {
   "cell_type": "code",
   "execution_count": 9,
   "metadata": {},
   "outputs": [],
   "source": [
    "# load website content for specific hospital\n",
    "def load_hospital_site(hospital_id):\n",
    "    \"\"\"\n",
    "    Summary:\n",
    "        Retrieve the departments and the respective number of treatments for a defined hospital from bundes-klinik-atlas.de.\n",
    "\n",
    "    Arguments:\n",
    "        hospital_id (str): hospital id as used at bundes-klinik-atlas.de\n",
    "\n",
    "    Returns:\n",
    "        soup (soup): website content\n",
    "    \"\"\"\n",
    "\n",
    "    request_url = f'https://bundes-klinik-atlas.de/krankenhaussuche/krankenhaus/{hospital_id}'\n",
    "    response = requests.get(request_url)\n",
    "    soup = BeautifulSoup(response.content, \"html.parser\")\n",
    "\n",
    "    return soup"
   ]
  },
  {
   "cell_type": "code",
   "execution_count": 10,
   "metadata": {},
   "outputs": [],
   "source": [
    "def get_departments(df, soup, hospital_id):\n",
    "    \"\"\"\n",
    "    Summary:\n",
    "        Store departments dictionary containing department designations and respective numbers of treatments to a pandas DataFrame.\n",
    "\n",
    "    Arguments:\n",
    "        hospital_id (str): hospital id as used at bundes-klinik-atlas.de\n",
    "        df (pd.DataFrame): DataFrame to store the data in\n",
    "        ...\n",
    "    \"\"\"\n",
    "    # extract data from soup\n",
    "    result_list = soup.find(name='ul', class_='rte_ul')\n",
    "    result_list_elements = result_list.find_all('li')\n",
    "\n",
    "    # store departments and number of treatments in a list\n",
    "    departments = {}\n",
    "    for li in result_list_elements:\n",
    "        try:\n",
    "            department = str(li.text.split(':')[0])\n",
    "            n_treatments = int(li.text.split(':')[1].strip().replace('.', ''))\n",
    "            departments.update({f\"{department}\": n_treatments})\n",
    "        except ValueError:\n",
    "            department = str(li.text.split(':')[0])\n",
    "            departments.update({f\"{department.replace('\\n', ' ').strip()}\": 0})\n",
    "    \n",
    "    for department, n_treatments in departments.items():\n",
    "        df.loc[df['hospital_id'] == hospital_id, department]= n_treatments\n",
    "    \n",
    "    return df\n",
    "\n",
    "def get_details(df, soup, hospital_id):\n",
    "    # extract data from soup\n",
    "    result_list = soup.find_all(name='div', class_='c-tacho-text__text')\n",
    "\n",
    "    # extract total treatment count\n",
    "    treatment_count_number = int(result_list[0].contents[1].text.replace('.',''))\n",
    "    treatment_count_description = result_list[0].contents[2].text.replace('\\n','').strip().replace('(','').replace(')','')\n",
    "    \n",
    "    # extract nursing staff quotient\n",
    "    nursing_staff_quotient_number = float(result_list[1].contents[1].text.replace(',','.'))\n",
    "    nursing_staff_quotient_description = result_list[1].contents[2].text.replace('\\n','').strip().replace('(','').replace(')','')\n",
    "\n",
    "    # extract provider type\n",
    "    provider_type = soup.find(name='li', class_='col-2 row-1').contents[2].text.replace('\\n','').strip()\n",
    "\n",
    "    df.loc[df['hospital_id'] == hospital_id, 'total_treatment_count_number'] = treatment_count_number\n",
    "    df.loc[df['hospital_id'] == hospital_id, 'total_treatment_count_description'] = treatment_count_description\n",
    "    df.loc[df['hospital_id'] == hospital_id, 'nursing_staff_quotient_number'] = nursing_staff_quotient_number\n",
    "    df.loc[df['hospital_id'] == hospital_id, 'nursing_staff_quotient_description'] = nursing_staff_quotient_description\n",
    "    df.loc[df['hospital_id'] == hospital_id, 'provider_type'] = provider_type\n",
    "\n",
    "    return df"
   ]
  },
  {
   "cell_type": "code",
   "execution_count": 11,
   "metadata": {},
   "outputs": [],
   "source": [
    "# get department info for each hospital and store it to dataframe\n",
    "for hospital_id in df_departments.head(1)['hospital_id']:\n",
    "\n",
    "    soup = load_hospital_site(hospital_id)\n",
    "    df_departments = get_departments(df_departments, soup, hospital_id)\n",
    "    df_details = get_details(df_details, soup, hospital_id)\n",
    "    \n",
    "    #time.sleep(15) # wait 15 sec between requests as requested by robots.txt of the website"
   ]
  },
  {
   "cell_type": "code",
   "execution_count": 65,
   "metadata": {},
   "outputs": [],
   "source": [
    "request_url = f'https://bundes-klinik-atlas.de/krankenhaussuche/krankenhaus/771003'\n",
    "response = requests.get(request_url)\n",
    "soup = BeautifulSoup(response.content, \"html.parser\")"
   ]
  },
  {
   "cell_type": "code",
   "execution_count": 53,
   "metadata": {},
   "outputs": [
    {
     "data": {
      "text/plain": [
       "'öffentlich'"
      ]
     },
     "execution_count": 53,
     "metadata": {},
     "output_type": "execute_result"
    }
   ],
   "source": [
    "provider_type = soup.find(name='li', class_='col-2 row-1')\n",
    "provider_type.contents[2].text.replace('\\n','').strip()"
   ]
  },
  {
   "cell_type": "code",
   "execution_count": 12,
   "metadata": {},
   "outputs": [
    {
     "data": {
      "text/html": [
       "<div>\n",
       "<style scoped>\n",
       "    .dataframe tbody tr th:only-of-type {\n",
       "        vertical-align: middle;\n",
       "    }\n",
       "\n",
       "    .dataframe tbody tr th {\n",
       "        vertical-align: top;\n",
       "    }\n",
       "\n",
       "    .dataframe thead th {\n",
       "        text-align: right;\n",
       "    }\n",
       "</style>\n",
       "<table border=\"1\" class=\"dataframe\">\n",
       "  <thead>\n",
       "    <tr style=\"text-align: right;\">\n",
       "      <th></th>\n",
       "      <th>hospital_id</th>\n",
       "      <th>total_treatment_count_number</th>\n",
       "      <th>total_treatment_count_description</th>\n",
       "      <th>nursing_staff_quotient_number</th>\n",
       "      <th>nursing_staff_quotient_description</th>\n",
       "      <th>provider_type</th>\n",
       "    </tr>\n",
       "  </thead>\n",
       "  <tbody>\n",
       "    <tr>\n",
       "      <th>0</th>\n",
       "      <td>771003</td>\n",
       "      <td>23479.0</td>\n",
       "      <td>sehr viele</td>\n",
       "      <td>60.11</td>\n",
       "      <td>weit unterdurchschnittlich</td>\n",
       "      <td>öffentlich</td>\n",
       "    </tr>\n",
       "    <tr>\n",
       "      <th>1</th>\n",
       "      <td>771011</td>\n",
       "      <td>NaN</td>\n",
       "      <td>NaN</td>\n",
       "      <td>NaN</td>\n",
       "      <td>NaN</td>\n",
       "      <td>NaN</td>\n",
       "    </tr>\n",
       "    <tr>\n",
       "      <th>2</th>\n",
       "      <td>771012</td>\n",
       "      <td>NaN</td>\n",
       "      <td>NaN</td>\n",
       "      <td>NaN</td>\n",
       "      <td>NaN</td>\n",
       "      <td>NaN</td>\n",
       "    </tr>\n",
       "    <tr>\n",
       "      <th>3</th>\n",
       "      <td>771015</td>\n",
       "      <td>NaN</td>\n",
       "      <td>NaN</td>\n",
       "      <td>NaN</td>\n",
       "      <td>NaN</td>\n",
       "      <td>NaN</td>\n",
       "    </tr>\n",
       "    <tr>\n",
       "      <th>4</th>\n",
       "      <td>771016</td>\n",
       "      <td>NaN</td>\n",
       "      <td>NaN</td>\n",
       "      <td>NaN</td>\n",
       "      <td>NaN</td>\n",
       "      <td>NaN</td>\n",
       "    </tr>\n",
       "    <tr>\n",
       "      <th>...</th>\n",
       "      <td>...</td>\n",
       "      <td>...</td>\n",
       "      <td>...</td>\n",
       "      <td>...</td>\n",
       "      <td>...</td>\n",
       "      <td>...</td>\n",
       "    </tr>\n",
       "    <tr>\n",
       "      <th>1653</th>\n",
       "      <td>773831</td>\n",
       "      <td>NaN</td>\n",
       "      <td>NaN</td>\n",
       "      <td>NaN</td>\n",
       "      <td>NaN</td>\n",
       "      <td>NaN</td>\n",
       "    </tr>\n",
       "    <tr>\n",
       "      <th>1654</th>\n",
       "      <td>773836</td>\n",
       "      <td>NaN</td>\n",
       "      <td>NaN</td>\n",
       "      <td>NaN</td>\n",
       "      <td>NaN</td>\n",
       "      <td>NaN</td>\n",
       "    </tr>\n",
       "    <tr>\n",
       "      <th>1655</th>\n",
       "      <td>773855</td>\n",
       "      <td>NaN</td>\n",
       "      <td>NaN</td>\n",
       "      <td>NaN</td>\n",
       "      <td>NaN</td>\n",
       "      <td>NaN</td>\n",
       "    </tr>\n",
       "    <tr>\n",
       "      <th>1656</th>\n",
       "      <td>773862</td>\n",
       "      <td>NaN</td>\n",
       "      <td>NaN</td>\n",
       "      <td>NaN</td>\n",
       "      <td>NaN</td>\n",
       "      <td>NaN</td>\n",
       "    </tr>\n",
       "    <tr>\n",
       "      <th>1657</th>\n",
       "      <td>773870</td>\n",
       "      <td>NaN</td>\n",
       "      <td>NaN</td>\n",
       "      <td>NaN</td>\n",
       "      <td>NaN</td>\n",
       "      <td>NaN</td>\n",
       "    </tr>\n",
       "  </tbody>\n",
       "</table>\n",
       "<p>1658 rows × 6 columns</p>\n",
       "</div>"
      ],
      "text/plain": [
       "     hospital_id  total_treatment_count_number  \\\n",
       "0         771003                       23479.0   \n",
       "1         771011                           NaN   \n",
       "2         771012                           NaN   \n",
       "3         771015                           NaN   \n",
       "4         771016                           NaN   \n",
       "...          ...                           ...   \n",
       "1653      773831                           NaN   \n",
       "1654      773836                           NaN   \n",
       "1655      773855                           NaN   \n",
       "1656      773862                           NaN   \n",
       "1657      773870                           NaN   \n",
       "\n",
       "     total_treatment_count_description  nursing_staff_quotient_number  \\\n",
       "0                           sehr viele                          60.11   \n",
       "1                                  NaN                            NaN   \n",
       "2                                  NaN                            NaN   \n",
       "3                                  NaN                            NaN   \n",
       "4                                  NaN                            NaN   \n",
       "...                                ...                            ...   \n",
       "1653                               NaN                            NaN   \n",
       "1654                               NaN                            NaN   \n",
       "1655                               NaN                            NaN   \n",
       "1656                               NaN                            NaN   \n",
       "1657                               NaN                            NaN   \n",
       "\n",
       "     nursing_staff_quotient_description provider_type  \n",
       "0            weit unterdurchschnittlich    öffentlich  \n",
       "1                                   NaN           NaN  \n",
       "2                                   NaN           NaN  \n",
       "3                                   NaN           NaN  \n",
       "4                                   NaN           NaN  \n",
       "...                                 ...           ...  \n",
       "1653                                NaN           NaN  \n",
       "1654                                NaN           NaN  \n",
       "1655                                NaN           NaN  \n",
       "1656                                NaN           NaN  \n",
       "1657                                NaN           NaN  \n",
       "\n",
       "[1658 rows x 6 columns]"
      ]
     },
     "execution_count": 12,
     "metadata": {},
     "output_type": "execute_result"
    }
   ],
   "source": [
    "df_details"
   ]
  },
  {
   "cell_type": "code",
   "execution_count": 12,
   "metadata": {},
   "outputs": [],
   "source": [
    "# store retrieved departments info to csv-file\n",
    "df_departments[0:50].to_csv('../data/in/staging/atlas_.csv', index=False, encoding='utf-8')"
   ]
  },
  {
   "cell_type": "code",
   "execution_count": null,
   "metadata": {},
   "outputs": [],
   "source": [
    "df_test = pd.read_csv('../data/in/staging/atlas_0-49.csv')"
   ]
  },
  {
   "cell_type": "markdown",
   "metadata": {},
   "source": [
    "### Webscrape treatments of the hospitals"
   ]
  },
  {
   "cell_type": "code",
   "execution_count": 5,
   "metadata": {},
   "outputs": [],
   "source": [
    "# create new dataframe to store treatment infos for each hospital\n",
    "df_treatments= pd.DataFrame(df_hospitals['link'].apply(lambda x: x.split('/')[-2])).rename(columns={'link': 'hospital_id'})"
   ]
  },
  {
   "cell_type": "code",
   "execution_count": 20,
   "metadata": {},
   "outputs": [],
   "source": [
    "treatments_list = ['Chirurgischer Herzklappenersatz']\n",
    "treatments_dict = {}\n",
    "for treatment in treatments_list:\n",
    "    treatments_dict[treatment] = treatment.replace(' ', '%20')"
   ]
  },
  {
   "cell_type": "code",
   "execution_count": 21,
   "metadata": {},
   "outputs": [
    {
     "name": "stdout",
     "output_type": "stream",
     "text": [
      "https://bundes-klinik-atlas.de/krankenhaussuche/krankenhaus/771003/?tx_tverzhospitaldata_show%5Bsearchlabel%5D=Chirurgischer%20Herzklappenersatz\n"
     ]
    }
   ],
   "source": [
    "for hospital_id in df_test['hospital_id'].head(1):\n",
    "    for treatment, treatment_searchlabel in treatments_dict.items():\n",
    "\n",
    "        # GET method\n",
    "        request_url = f'https://bundes-klinik-atlas.de/krankenhaussuche/krankenhaus/{hospital_id}/?tx_tverzhospitaldata_show%5Bsearchlabel%5D={treatment_searchlabel}'\n",
    "        print(request_url)\n",
    "        response = requests.get(request_url)\n",
    "\n",
    "        # parse HTML\n",
    "        soup = BeautifulSoup(response.content, \"html.parser\")\n",
    "\n",
    "        # extracting data\n",
    "        result_list = soup.find_all(name='div', class_='c-tacho-text__text')\n",
    "        result_list_elements = result_list.find_all('li')\n",
    "\n",
    "        \n",
    "\n"
   ]
  },
  {
   "cell_type": "code",
   "execution_count": 53,
   "metadata": {},
   "outputs": [],
   "source": []
  },
  {
   "cell_type": "code",
   "execution_count": 54,
   "metadata": {},
   "outputs": [],
   "source": []
  },
  {
   "cell_type": "code",
   "execution_count": 6,
   "metadata": {},
   "outputs": [
    {
     "data": {
      "text/html": [
       "<div>\n",
       "<style scoped>\n",
       "    .dataframe tbody tr th:only-of-type {\n",
       "        vertical-align: middle;\n",
       "    }\n",
       "\n",
       "    .dataframe tbody tr th {\n",
       "        vertical-align: top;\n",
       "    }\n",
       "\n",
       "    .dataframe thead th {\n",
       "        text-align: right;\n",
       "    }\n",
       "</style>\n",
       "<table border=\"1\" class=\"dataframe\">\n",
       "  <thead>\n",
       "    <tr style=\"text-align: right;\">\n",
       "      <th></th>\n",
       "      <th>hospital_id</th>\n",
       "    </tr>\n",
       "  </thead>\n",
       "  <tbody>\n",
       "    <tr>\n",
       "      <th>0</th>\n",
       "      <td>771003</td>\n",
       "    </tr>\n",
       "    <tr>\n",
       "      <th>1</th>\n",
       "      <td>771011</td>\n",
       "    </tr>\n",
       "    <tr>\n",
       "      <th>2</th>\n",
       "      <td>771012</td>\n",
       "    </tr>\n",
       "    <tr>\n",
       "      <th>3</th>\n",
       "      <td>771015</td>\n",
       "    </tr>\n",
       "    <tr>\n",
       "      <th>4</th>\n",
       "      <td>771016</td>\n",
       "    </tr>\n",
       "    <tr>\n",
       "      <th>...</th>\n",
       "      <td>...</td>\n",
       "    </tr>\n",
       "    <tr>\n",
       "      <th>1653</th>\n",
       "      <td>773831</td>\n",
       "    </tr>\n",
       "    <tr>\n",
       "      <th>1654</th>\n",
       "      <td>773836</td>\n",
       "    </tr>\n",
       "    <tr>\n",
       "      <th>1655</th>\n",
       "      <td>773855</td>\n",
       "    </tr>\n",
       "    <tr>\n",
       "      <th>1656</th>\n",
       "      <td>773862</td>\n",
       "    </tr>\n",
       "    <tr>\n",
       "      <th>1657</th>\n",
       "      <td>773870</td>\n",
       "    </tr>\n",
       "  </tbody>\n",
       "</table>\n",
       "<p>1658 rows × 1 columns</p>\n",
       "</div>"
      ],
      "text/plain": [
       "     hospital_id\n",
       "0         771003\n",
       "1         771011\n",
       "2         771012\n",
       "3         771015\n",
       "4         771016\n",
       "...          ...\n",
       "1653      773831\n",
       "1654      773836\n",
       "1655      773855\n",
       "1656      773862\n",
       "1657      773870\n",
       "\n",
       "[1658 rows x 1 columns]"
      ]
     },
     "execution_count": 6,
     "metadata": {},
     "output_type": "execute_result"
    }
   ],
   "source": [
    "request_url = f'https://bundes-klinik-atlas.de/krankenhaussuche/krankenhaus/{hospital_id}'\n",
    "print(request_url)\n",
    "response = requests.get(request_url)\n",
    "\n",
    "# parse HTML\n",
    "soup = BeautifulSoup(response.content, \"html.parser\")\n",
    "\n",
    "# extracting data\n",
    "result_list = soup.find(name='div', class_='c-tacho-text__text')\n",
    "result_list_elements = result_list.find_all('li')"
   ]
  },
  {
   "cell_type": "code",
   "execution_count": null,
   "metadata": {},
   "outputs": [],
   "source": []
  }
 ],
 "metadata": {
  "kernelspec": {
   "display_name": "base",
   "language": "python",
   "name": "python3"
  },
  "language_info": {
   "codemirror_mode": {
    "name": "ipython",
    "version": 3
   },
   "file_extension": ".py",
   "mimetype": "text/x-python",
   "name": "python",
   "nbconvert_exporter": "python",
   "pygments_lexer": "ipython3",
   "version": "3.12.4"
  }
 },
 "nbformat": 4,
 "nbformat_minor": 2
}
