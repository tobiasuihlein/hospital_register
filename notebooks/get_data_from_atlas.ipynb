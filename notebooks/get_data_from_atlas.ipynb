{
 "cells": [
  {
   "cell_type": "code",
   "execution_count": 1,
   "metadata": {},
   "outputs": [],
   "source": [
    "# load libraries\n",
    "import pandas as pd\n",
    "import requests\n",
    "from bs4 import BeautifulSoup\n",
    "import time\n",
    "import sys\n",
    "import os\n",
    "from IPython.display import clear_output\n",
    "\n",
    "# load functions\n",
    "current_dir = os.getcwd()\n",
    "parent_dir = os.path.dirname(current_dir)\n",
    "sys.path.append(parent_dir)\n",
    "from lib.functions_webscrape_atlas import *\n",
    "\n",
    "# set display options\n",
    "pd.set_option('display.max_columns', None)"
   ]
  },
  {
   "cell_type": "markdown",
   "metadata": {},
   "source": [
    "## Load hospital locations"
   ]
  },
  {
   "cell_type": "code",
   "execution_count": 2,
   "metadata": {},
   "outputs": [],
   "source": [
    "# read hospital locations data\n",
    "df_locations = pd.read_json('../data/in/raw/atlas/locations.json', dtype={'zip': str})"
   ]
  },
  {
   "cell_type": "code",
   "execution_count": 3,
   "metadata": {},
   "outputs": [],
   "source": [
    "# create list of hospital ids\n",
    "hospital_id_list = list(df_locations.copy()['link'].apply(lambda x: x.split('/')[-2]).values)"
   ]
  },
  {
   "cell_type": "markdown",
   "metadata": {},
   "source": [
    "## Clean hospital locations and add column for hospital id\n",
    "* Create column for hostpital od\n",
    "* Clean empty cells\n",
    "* Save data to file"
   ]
  },
  {
   "cell_type": "code",
   "execution_count": 3,
   "metadata": {},
   "outputs": [],
   "source": [
    "# create new column for hospital_id\n",
    "df_locations['hospital_id'] = pd.DataFrame(df_locations.copy()['link'].apply(lambda x: x.split('/')[-2])).rename(columns={'link': 'hospital_id'})\n",
    "# replace empty cells with 'not reported'\n",
    "df_locations = df_locations.replace('', 'not reported')\n",
    "# save locations preprocessed data\n",
    "df_locations.to_csv('../data/in/staging/hospital_locations.csv', index=False)"
   ]
  },
  {
   "cell_type": "markdown",
   "metadata": {},
   "source": [
    "## Webscrape departments, certificates and other details of the hospitals"
   ]
  },
  {
   "cell_type": "code",
   "execution_count": 4,
   "metadata": {},
   "outputs": [
    {
     "name": "stdout",
     "output_type": "stream",
     "text": [
      "773870 - 100.0 %\n",
      "no certificates found\n"
     ]
    }
   ],
   "source": [
    "\n",
    "# initialize lists to store departments data\n",
    "hospital_ids_departments = []\n",
    "department_names = []\n",
    "department_counts = []\n",
    "\n",
    "# initialize lists to store certificates data\n",
    "hospital_ids_certificates = []\n",
    "certificates = []\n",
    "\n",
    "# initialize lists to store details data\n",
    "hospital_ids_details = []\n",
    "total_treatments_counts = []\n",
    "total_treatments_labels = []\n",
    "nursing_quotient_counts = []\n",
    "nursing_quotient_labels = []\n",
    "nursing_counts = []\n",
    "provider_types = []\n",
    "bed_counts = []\n",
    "semi_residential_counts = []\n",
    "emergency_services = []\n",
    "\n",
    "# loop through all hospital ids\n",
    "k = 0\n",
    "for hospital_id in hospital_id_list:\n",
    "    k += 1\n",
    "    print(f'{hospital_id} - {round(k/len(hospital_id_list)*100, 1)} %')\n",
    "    \n",
    "    # load website content for specific hospital\n",
    "    soup = load_hospital_site(hospital_id)\n",
    "\n",
    "    # extract department data from website content\n",
    "    hospital_ids_, department_names_, department_counts_ = get_departments(soup, hospital_id)\n",
    "\n",
    "    hospital_ids_departments.extend(hospital_ids_)\n",
    "    department_names.extend(department_names_)\n",
    "    department_counts.extend(department_counts_)\n",
    "\n",
    "    # extract certificates data from website content\n",
    "    hospital_ids_certificates_, certificates_ = get_certificates(soup, hospital_id)\n",
    "\n",
    "    hospital_ids_certificates.extend(hospital_ids_certificates_)\n",
    "    certificates.extend(certificates_)\n",
    "\n",
    "    # extract details data from website content\n",
    "    hospital_id, total_treatments_count, total_treatments_label, nursing_quotient_count, nursing_quotient_label, nursing_count, provider_type, bed_count, semi_residential_count, emergency_service = get_details(soup, hospital_id)\n",
    "\n",
    "    hospital_ids_details.append(hospital_id)\n",
    "    total_treatments_counts.append(total_treatments_count)\n",
    "    total_treatments_labels.append(total_treatments_label)\n",
    "    nursing_quotient_counts.append(nursing_quotient_count)\n",
    "    nursing_quotient_labels.append(nursing_quotient_label)\n",
    "    nursing_counts.append(nursing_count)\n",
    "    provider_types.append(provider_type)\n",
    "    bed_counts.append(bed_count)\n",
    "    semi_residential_counts.append(semi_residential_count)\n",
    "    emergency_services.append(emergency_service)\n",
    "\n",
    "    # wait 15 sec between requests as requested by robots.txt of the website\n",
    "    time.sleep(15)\n",
    "    clear_output(wait=True)\n",
    "\n",
    "# create dataframes from lists\n",
    "df_departments = pd.DataFrame({'hospital_id': hospital_ids_departments, 'department_name': department_names, 'department_count': department_counts})\n",
    "df_certificates = pd.DataFrame({'hospital_id': hospital_ids_certificates, 'certificate': certificates})\n",
    "df_details = pd.DataFrame({'hospital_id': hospital_ids_details, 'total_treatments': total_treatments_counts, 'total_treatments_label': total_treatments_labels, 'nursing_quotient': nursing_quotient_counts, 'nursing_quotient_label': nursing_quotient_labels, 'nursing_count': nursing_counts ,'provider_type': provider_types, 'bed_count': bed_counts, 'semi_residential_count': semi_residential_counts, 'emergency_service': emergency_services})\n",
    "\n",
    "# save department and details data for further processing\n",
    "df_departments.to_csv('../data/in/staging/atlas_departments.csv', index=False, encoding='utf-8')\n",
    "df_certificates.to_csv('../data/in/staging/atlas_certificates.csv', index=False, encoding='utf-8')\n",
    "df_details.to_csv('../data/in/staging/atlas_details.csv', index=False, encoding='utf-8')"
   ]
  },
  {
   "cell_type": "code",
   "execution_count": 4,
   "metadata": {},
   "outputs": [],
   "source": [
    "soup = load_hospital_site('773686')    \n",
    "\n",
    "nursing_count = soup.find_all(name='div', class_='ce-accordion__header__components')[1].find_all(name='strong')[1].text.strip()"
   ]
  },
  {
   "cell_type": "code",
   "execution_count": 5,
   "metadata": {},
   "outputs": [
    {
     "data": {
      "text/plain": [
       "'1.546'"
      ]
     },
     "execution_count": 5,
     "metadata": {},
     "output_type": "execute_result"
    }
   ],
   "source": [
    "nursing_count"
   ]
  },
  {
   "cell_type": "markdown",
   "metadata": {},
   "source": [
    "## Webscrape specific treatments of the hospitals\n",
    "* Create treatments dictionary for a) webscraping and b) database dict\n",
    "* Save datavase dict\n",
    "* Retrieve treatments data vie webscraping"
   ]
  },
  {
   "cell_type": "code",
   "execution_count": 10,
   "metadata": {},
   "outputs": [],
   "source": [
    "# Create dictionary with treatment names as keys and urls as values\n",
    "url_dict ={'Chirurgischer Herzklappenersatz': 'https://bundes-klinik-atlas.de/krankenhaussuche/krankenhaus/771056/?tx_tverzhospitaldata_show%5Bquantile%5D=114%2C202%2C253%2C343&tx_tverzhospitaldata_show%5Bsearchlabel%5D=Chirurgischer%20Herzklappenersatz&tx_tverzhospitaldata_show%5Bsimplesearch%5D=1&tx_tverzhospitaldata_show%5Btreatmentcode%5D=KAHKO0&cHash=6488c3f4b1c6d9c491b41ed9e9c59a11',\n",
    "           'Minimal-invasiver Herzklappenersatz': 'https://bundes-klinik-atlas.de/krankenhaussuche/krankenhaus/771056/?tx_tverzhospitaldata_show%5Bquantile%5D=114%2C202%2C253%2C343&tx_tverzhospitaldata_show%5Bsearchlabel%5D=Minimal-invasiver%20Herzklappenersatz&tx_tverzhospitaldata_show%5Bsimplesearch%5D=1&tx_tverzhospitaldata_show%5Btreatmentcode%5D=KAHM0&cHash=50c6a7f418b8bba0fd937e323b8eac77',\n",
    "           'Bypassoperation des Herzens': 'https://bundes-klinik-atlas.de/krankenhaussuche/krankenhaus/771056/?tx_tverzhospitaldata_show%5Bquantile%5D=114%2C202%2C253%2C343&tx_tverzhospitaldata_show%5Bsearchlabel%5D=Bypassoperation%20des%20Herzens&tx_tverzhospitaldata_show%5Bsimplesearch%5D=1&tx_tverzhospitaldata_show%5Btreatmentcode%5D=KAKIA&cHash=d70d02d9a5fca4c88484fe1f48e71e7f',\n",
    "           'Herzkatheter mit Stent': 'https://bundes-klinik-atlas.de/krankenhaussuche/krankenhaus/771056/?tx_tverzhospitaldata_show%5Bquantile%5D=114%2C202%2C253%2C343&tx_tverzhospitaldata_show%5Bsearchlabel%5D=Herzkatheter%20mit%20Stent&tx_tverzhospitaldata_show%5Bsimplesearch%5D=1&tx_tverzhospitaldata_show%5Btreatmentcode%5D=KAKIB&cHash=7cae1fe1edf884bd4a96e34171e8cdf3',\n",
    "           'Lungenentzündung': 'https://bundes-klinik-atlas.de/krankenhaussuche/krankenhaus/772997/?tx_tverzhospitaldata_show%5Bquantile%5D=92%2C184%2C282%2C412&tx_tverzhospitaldata_show%5Bsearchlabel%5D=Lungenentz%C3%BCndung&tx_tverzhospitaldata_show%5Bsimplesearch%5D=1&tx_tverzhospitaldata_show%5Btreatmentcode%5D=KALE0&cHash=bcf4ebff7a7f83de638c9932e30b42dd',\n",
    "           'Brustkrebs-Operation': 'https://bundes-klinik-atlas.de/krankenhaussuche/krankenhaus/772063/?tx_tverzhospitaldata_show%5Bquantile%5D=9%2C57%2C141%2C217&tx_tverzhospitaldata_show%5Bsearchlabel%5D=Brustkrebs-Operation&tx_tverzhospitaldata_show%5Bsimplesearch%5D=1&tx_tverzhospitaldata_show%5Btreatmentcode%5D=KABK0&cHash=f3404911efb4741fcfb6a70f4fd95837',\n",
    "           'Lungenkrebs-Operation': 'https://bundes-klinik-atlas.de/krankenhaussuche/krankenhaus/771217/?tx_tverzhospitaldata_show%5Bquantile%5D=4%2C15%2C38%2C73&tx_tverzhospitaldata_show%5Bsearchlabel%5D=Lungenkrebs-Operation&tx_tverzhospitaldata_show%5Bsimplesearch%5D=1&tx_tverzhospitaldata_show%5Btreatmentcode%5D=KALK0&cHash=e3c44782d684bf077683b1dcff0563e8',\n",
    "           'Darmkrebs-Operation': 'https://bundes-klinik-atlas.de/krankenhaussuche/krankenhaus/771374/?tx_tverzhospitaldata_show%5Bquantile%5D=17%2C30%2C47%2C72&tx_tverzhospitaldata_show%5Bsearchlabel%5D=Darmkrebs-Operation&tx_tverzhospitaldata_show%5Bsimplesearch%5D=1&tx_tverzhospitaldata_show%5Btreatmentcode%5D=KADK0&cHash=11cb4bad024311c202ffc41fafbc1d2e',\n",
    "           'Speiseröhren und Magenkrebs-Operation': 'https://bundes-klinik-atlas.de/krankenhaussuche/krankenhaus/773491/?tx_tverzhospitaldata_show%5Bquantile%5D=2%2C3%2C6%2C15&tx_tverzhospitaldata_show%5Bsearchlabel%5D=Speiser%C3%B6hren%20und%20Magenkrebs-Operation&tx_tverzhospitaldata_show%5Bsimplesearch%5D=1&tx_tverzhospitaldata_show%5Btreatmentcode%5D=KAOM0&cHash=364a6f260a5792ef6206c30ae1919d11',\n",
    "           'Prostatakrebs-Operation': 'https://bundes-klinik-atlas.de/krankenhaussuche/krankenhaus/771299/?tx_tverzhospitaldata_show%5Bquantile%5D=15%2C40%2C75%2C127&tx_tverzhospitaldata_show%5Bsearchlabel%5D=Prostatakrebs-Operation&tx_tverzhospitaldata_show%5Bsimplesearch%5D=1&tx_tverzhospitaldata_show%5Btreatmentcode%5D=KAPRK0&cHash=aba8d24f1e9ec2ebcf3ffe761111e997',\n",
    "           'Pankreaskarzinom-Operation': 'https://bundes-klinik-atlas.de/krankenhaussuche/krankenhaus/771700/?tx_tverzhospitaldata_show%5Bquantile%5D=4%2C7%2C11%2C17&tx_tverzhospitaldata_show%5Bsearchlabel%5D=Pankreaskarzinom-Operation&tx_tverzhospitaldata_show%5Bsimplesearch%5D=1&tx_tverzhospitaldata_show%5Btreatmentcode%5D=KAPK0&cHash=173208dc51def8e0ba8cd9debd9ef268',\n",
    "           'Totalendoprothese der Hüfte': 'https://bundes-klinik-atlas.de/krankenhaussuche/krankenhaus/772231/?tx_tverzhospitaldata_show%5Bquantile%5D=38%2C77%2C124%2C230&tx_tverzhospitaldata_show%5Bsearchlabel%5D=Totalendoprothese%20der%20H%C3%BCfte&tx_tverzhospitaldata_show%5Bsimplesearch%5D=1&tx_tverzhospitaldata_show%5Btreatmentcode%5D=KAEH0&cHash=efbb9b98461a2830519f76249ec85cb7',\n",
    "           'Totalendoprothesen-Wechsel der Hüfte': 'https://bundes-klinik-atlas.de/krankenhaussuche/krankenhaus/771358/?tx_tverzhospitaldata_show%5Bquantile%5D=4%2C8%2C14%2C26&tx_tverzhospitaldata_show%5Bsearchlabel%5D=Totalendoprothesen-Wechsel%20der%20H%C3%BCfte&tx_tverzhospitaldata_show%5Bsimplesearch%5D=1&tx_tverzhospitaldata_show%5Btreatmentcode%5D=KARH0&cHash=e4898fb053c6ad37868a99bc9752feb8',\n",
    "           'Totalendoprothesen-Wechsel des Knies': 'https://bundes-klinik-atlas.de/krankenhaussuche/krankenhaus/771358/?tx_tverzhospitaldata_show%5Bquantile%5D=5%2C10%2C16%2C30&tx_tverzhospitaldata_show%5Bsearchlabel%5D=Totalendoprothesen-Wechsel%20des%20Knies&tx_tverzhospitaldata_show%5Bsimplesearch%5D=1&tx_tverzhospitaldata_show%5Btreatmentcode%5D=KARK0&cHash=7bc10476b7236fa9c4edba6e33c76421',\n",
    "           'Totalendoprothese des Knies': 'https://bundes-klinik-atlas.de/krankenhaussuche/krankenhaus/771358/?tx_tverzhospitaldata_show%5Bquantile%5D=58%2C93%2C151%2C253&tx_tverzhospitaldata_show%5Bsearchlabel%5D=Totalendoprothese%20des%20Knies&tx_tverzhospitaldata_show%5Bsimplesearch%5D=1&tx_tverzhospitaldata_show%5Btreatmentcode%5D=KAEK0&cHash=03f08c1f87992324d59206f40787b5b5',\n",
    "           'Behandlung auf einer Schlaganfalleinheit': 'https://bundes-klinik-atlas.de/krankenhaussuche/krankenhaus/771555/?tx_tverzhospitaldata_show%5Bquantile%5D=141%2C350%2C539%2C745&tx_tverzhospitaldata_show%5Bsearchlabel%5D=Behandlung%20auf%20einer%20Schlaganfalleinheit&tx_tverzhospitaldata_show%5Bsimplesearch%5D=1&tx_tverzhospitaldata_show%5Btreatmentcode%5D=KASA0&cHash=ab40287de25dc2cf59c2e637ab1eb940',\n",
    "           'Multiple Sklerose': 'https://bundes-klinik-atlas.de/krankenhaussuche/krankenhaus/772087/?tx_tverzhospitaldata_show%5Bquantile%5D=1%2C3%2C24%2C57&tx_tverzhospitaldata_show%5Bsearchlabel%5D=Multiple%20Sklerose&tx_tverzhospitaldata_show%5Bsimplesearch%5D=1&tx_tverzhospitaldata_show%5Btreatmentcode%5D=KAMUS0&cHash=cc9e17629f1e9cff7ffb3b678f9c2442',\n",
    "           'Parkinson': 'https://bundes-klinik-atlas.de/krankenhaussuche/krankenhaus/771912/?tx_tverzhospitaldata_show%5Bquantile%5D=2%2C5%2C12%2C42&tx_tverzhospitaldata_show%5Bsearchlabel%5D=Parkinson&tx_tverzhospitaldata_show%5Bsimplesearch%5D=1&tx_tverzhospitaldata_show%5Btreatmentcode%5D=KAPAR0&cHash=b4c18b572f4841ef85c661036dc1f4c4',\n",
    "           'Entbindungen': 'https://bundes-klinik-atlas.de/krankenhaussuche/krankenhaus/771984/?tx_tverzhospitaldata_show%5Bquantile%5D=479%2C726%2C1075%2C1695&tx_tverzhospitaldata_show%5Bsearchlabel%5D=Entbindungen&tx_tverzhospitaldata_show%5Bsimplesearch%5D=1&tx_tverzhospitaldata_show%5Btreatmentcode%5D=KAEN0&cHash=147f28b60064cbadb23864ca7d7b01ac',\n",
    "           'Bauchschlagader: Operation und Stent': 'https://bundes-klinik-atlas.de/krankenhaussuche/krankenhaus/772191/?tx_tverzhospitaldata_show%5Bquantile%5D=4%2C11%2C22%2C34&tx_tverzhospitaldata_show%5Bsearchlabel%5D=Bauchschlagader%3A%20Operation%20und%20Stent%20&tx_tverzhospitaldata_show%5Bsimplesearch%5D=1&tx_tverzhospitaldata_show%5Btreatmentcode%5D=KABAA0&cHash=5dcf8315c289e6dfb45d63e246cc3b56',\n",
    "           'Durchblutungsstörung der Beine: Operation und Stent': 'https://bundes-klinik-atlas.de/krankenhaussuche/krankenhaus/773318/?tx_tverzhospitaldata_show%5Bquantile%5D=28%2C118%2C204%2C315&tx_tverzhospitaldata_show%5Bsearchlabel%5D=Durchblutungsst%C3%B6rung%20der%20Beine%3A%20Operation%20und%20Stent&tx_tverzhospitaldata_show%5Bsimplesearch%5D=1&tx_tverzhospitaldata_show%5Btreatmentcode%5D=KASCHK0&cHash=9955d47a7543a02d868c6f3cc0b02806',\n",
    "           'Halsschlagader: Operation und Stent': 'https://bundes-klinik-atlas.de/krankenhaussuche/krankenhaus/772783/?tx_tverzhospitaldata_show%5Bquantile%5D=7%2C19%2C32%2C51&tx_tverzhospitaldata_show%5Bsearchlabel%5D=Halsschlagader%3A%20Operation%20und%20Stent&tx_tverzhospitaldata_show%5Bsimplesearch%5D=1&tx_tverzhospitaldata_show%5Btreatmentcode%5D=KAOH0&cHash=bee2feab4b2c02881380558c5799520c'\n",
    "           }\n",
    "\n",
    "treatments_dictionary = {}\n",
    "treatments_dict_for_db = {}\n",
    "\n",
    "# Extract treatment code, searchlabel and cHash from urls and store them in a dictionary\n",
    "for key, value in url_dict.items():\n",
    "    treatment_name = key\n",
    "    treatment_code = value.split('treatmentcode%5D=')[1].split('&')[0]\n",
    "    treatment_searchlabel = value.split('searchlabel%5D=')[1].split('&')[0]\n",
    "    treatment_cHash = value.split('cHash=')[1]\n",
    "    treatments_dictionary[treatment_name] = {\n",
    "        'code': treatment_code,\n",
    "        'searchlabel': treatment_searchlabel,\n",
    "        'cHash': treatment_cHash}\n",
    "    treatments_dict_for_db[treatment_code] = treatment_name"
   ]
  },
  {
   "cell_type": "code",
   "execution_count": 14,
   "metadata": {},
   "outputs": [],
   "source": [
    "# Save treatments dictionary to csv for database import\n",
    "treatments_dict_df = pd.DataFrame({'treatment_code': treatments_dict_for_db.keys(), 'treatment_name': treatments_dict_for_db.values()})\n",
    "treatments_dict_df.to_csv('../data/in/staging/treatments_dict.csv', index=False)"
   ]
  },
  {
   "cell_type": "code",
   "execution_count": null,
   "metadata": {},
   "outputs": [],
   "source": [
    "# Get treatments for all hospitals and save to csv in chunks\n",
    "m = 50\n",
    "for k in range(len(hospital_id_list)//m):\n",
    "    k+=11\n",
    "    print('k:', k)\n",
    "    print(f'{k*m}-{k*m+m-1}')\n",
    "    list_for_df_hospital_id, list_for_df_treatment_code, list_for_df_count_number, list_for_df_count_label = get_treatments(hospital_ids[k*m:k*m+m], treatments_dictionary)\n",
    "    df_treatments = pd.DataFrame({'hospital_id': list_for_df_hospital_id, 'treatment_code': list_for_df_treatment_code, 'count_number': list_for_df_count_number, 'count_label': list_for_df_count_label})\n",
    "    df_treatments.to_csv(f'../data/in/staging/treatments_chunks/atlas_treatments_sample_{k*m}-{k*m+m-1}.csv', index=False, encoding='utf-8')\n",
    "    print(f'saved file {k*m}-{k*m+m-1}')\n",
    "    del df_treatments"
   ]
  }
 ],
 "metadata": {
  "kernelspec": {
   "display_name": "base",
   "language": "python",
   "name": "python3"
  },
  "language_info": {
   "codemirror_mode": {
    "name": "ipython",
    "version": 3
   },
   "file_extension": ".py",
   "mimetype": "text/x-python",
   "name": "python",
   "nbconvert_exporter": "python",
   "pygments_lexer": "ipython3",
   "version": "3.12.4"
  }
 },
 "nbformat": 4,
 "nbformat_minor": 2
}
