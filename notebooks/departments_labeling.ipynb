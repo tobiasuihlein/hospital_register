{
 "cells": [
  {
   "cell_type": "code",
   "execution_count": 18,
   "metadata": {},
   "outputs": [],
   "source": [
    "import pandas as pd"
   ]
  },
  {
   "cell_type": "code",
   "execution_count": 19,
   "metadata": {},
   "outputs": [],
   "source": [
    "# load department labels and hospital department data\n",
    "df_department_labels = pd.read_csv('../data/in/staging/departments_general_dict.csv', dtype={'department_id': str})\n",
    "df_department_focus_labels = pd.read_csv('../data/in/staging/departments_focus_dict.csv', dtype={'department_id': str})\n",
    "df_department_labels_concat = pd.concat([df_department_labels, df_department_focus_labels])\n",
    "df_hospital_departments = pd.read_csv('../data/in/staging/atlas_departments_0-49.csv')"
   ]
  },
  {
   "cell_type": "code",
   "execution_count": 20,
   "metadata": {},
   "outputs": [],
   "source": [
    "# rename columns labeled with 'ohne Differenzierung' (no focus specified)\n",
    "for department_label in list(df_hospital_departments.columns):\n",
    "    if 'ohne Differenzierung' in str(department_label):\n",
    "        df_hospital_departments = df_hospital_departments.rename(columns=({department_label: department_label.split('/')[0]}))\n",
    "\n",
    "# clean columns with '/ ' instead of '/' in the label\n",
    "for department_label in list(df_hospital_departments.columns):\n",
    "    if '/ ' in str(department_label):\n",
    "        df_hospital_departments = df_hospital_departments.rename(columns=({department_label: department_label.replace('/ ', '/')}))\n",
    "\n",
    "# rename column label 'Neurologie/Schwerpunkt Schlaganfallpatienten (stroke units, Artikel 7 § 1 Abs. 3 GKV-SolG)'\n",
    "df_hospital_departments = df_hospital_departments.rename(columns=({'Neurologie/Schwerpunkt Schlaganfallpatienten (stroke units, Artikel 7 § 1 Abs. 3 GKV-SolG)': 'Neurologie/Schwerpunkt Schlaganfallpatienten'}))"
   ]
  },
  {
   "cell_type": "code",
   "execution_count": 21,
   "metadata": {},
   "outputs": [],
   "source": [
    "# create dictionary to translate department labels to department ids\n",
    "departments_dict = {}\n",
    "for department_label in df_department_labels_concat['department_label']:\n",
    "    departments_dict.update({department_label: df_department_labels_concat[df_department_labels_concat['department_label'] == department_label]['department_id'].values[0]})"
   ]
  },
  {
   "cell_type": "code",
   "execution_count": 22,
   "metadata": {},
   "outputs": [],
   "source": [
    "# apply dictionary to rename columns\n",
    "df_hospital_departments = df_hospital_departments.rename(columns=departments_dict)"
   ]
  },
  {
   "cell_type": "code",
   "execution_count": 23,
   "metadata": {},
   "outputs": [],
   "source": [
    "# transform dataframe from wide to long format\n",
    "df_hospital_departments_long = pd.melt(df_hospital_departments, id_vars=['hospital_id'], var_name='department_id', value_name='treatment_count').dropna()"
   ]
  },
  {
   "cell_type": "code",
   "execution_count": 24,
   "metadata": {},
   "outputs": [],
   "source": [
    "# save data ready for database import\n",
    "df_hospital_departments_long.to_csv('../data/db_csv/hospital_departments.csv', index=False, encoding='utf-8')\n",
    "df_department_labels_concat.to_csv('../data/db_csv/hospital_departments_dict.csv', index=False, encoding='utf-8')"
   ]
  }
 ],
 "metadata": {
  "kernelspec": {
   "display_name": ".venv",
   "language": "python",
   "name": "python3"
  },
  "language_info": {
   "codemirror_mode": {
    "name": "ipython",
    "version": 3
   },
   "file_extension": ".py",
   "mimetype": "text/x-python",
   "name": "python",
   "nbconvert_exporter": "python",
   "pygments_lexer": "ipython3",
   "version": "3.12.4"
  }
 },
 "nbformat": 4,
 "nbformat_minor": 2
}
