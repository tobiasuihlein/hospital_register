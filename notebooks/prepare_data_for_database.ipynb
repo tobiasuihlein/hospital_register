{
 "cells": [
  {
   "cell_type": "code",
   "execution_count": 106,
   "metadata": {},
   "outputs": [],
   "source": [
    "import pandas as pd\n",
    "import numpy as np\n",
    "import sys\n",
    "import os\n",
    "\n",
    "# load functions\n",
    "current_dir = os.getcwd()\n",
    "parent_dir = os.path.dirname(current_dir)\n",
    "sys.path.append(parent_dir)\n",
    "from lib.functions_prepare_data import *"
   ]
  },
  {
   "cell_type": "markdown",
   "metadata": {},
   "source": [
    "## Hospital details"
   ]
  },
  {
   "cell_type": "markdown",
   "metadata": {},
   "source": [
    "### Data In"
   ]
  },
  {
   "cell_type": "code",
   "execution_count": 162,
   "metadata": {},
   "outputs": [
    {
     "data": {
      "text/html": [
       "<div>\n",
       "<style scoped>\n",
       "    .dataframe tbody tr th:only-of-type {\n",
       "        vertical-align: middle;\n",
       "    }\n",
       "\n",
       "    .dataframe tbody tr th {\n",
       "        vertical-align: top;\n",
       "    }\n",
       "\n",
       "    .dataframe thead th {\n",
       "        text-align: right;\n",
       "    }\n",
       "</style>\n",
       "<table border=\"1\" class=\"dataframe\">\n",
       "  <thead>\n",
       "    <tr style=\"text-align: right;\">\n",
       "      <th></th>\n",
       "      <th>hospital_id</th>\n",
       "      <th>total_treatments</th>\n",
       "      <th>total_treatments_label</th>\n",
       "      <th>nursing_quotient</th>\n",
       "      <th>nursing_quotient_label</th>\n",
       "      <th>nursing_count</th>\n",
       "      <th>provider_type</th>\n",
       "      <th>bed_count</th>\n",
       "      <th>semi_residential_count</th>\n",
       "      <th>emergency_service</th>\n",
       "    </tr>\n",
       "  </thead>\n",
       "  <tbody>\n",
       "    <tr>\n",
       "      <th>0</th>\n",
       "      <td>771003</td>\n",
       "      <td>23479</td>\n",
       "      <td>sehr viele</td>\n",
       "      <td>60.11</td>\n",
       "      <td>weit unterdurchschnittlich</td>\n",
       "      <td>363</td>\n",
       "      <td>öffentlich</td>\n",
       "      <td>539</td>\n",
       "      <td>52</td>\n",
       "      <td>Stufe 2 - Erweiterte Notfallversorgung</td>\n",
       "    </tr>\n",
       "    <tr>\n",
       "      <th>1</th>\n",
       "      <td>771011</td>\n",
       "      <td>13563</td>\n",
       "      <td>viele</td>\n",
       "      <td>55.68</td>\n",
       "      <td>unterdurchschnittlich</td>\n",
       "      <td>227</td>\n",
       "      <td>öffentlich</td>\n",
       "      <td>320</td>\n",
       "      <td>20</td>\n",
       "      <td>Stufe 2 - Erweiterte Notfallversorgung</td>\n",
       "    </tr>\n",
       "    <tr>\n",
       "      <th>2</th>\n",
       "      <td>771012</td>\n",
       "      <td>15347</td>\n",
       "      <td>viele</td>\n",
       "      <td>48.69</td>\n",
       "      <td>überdurchschnittlich</td>\n",
       "      <td>268</td>\n",
       "      <td>öffentlich</td>\n",
       "      <td>300</td>\n",
       "      <td>8</td>\n",
       "      <td>Stufe 2 - Erweiterte Notfallversorgung</td>\n",
       "    </tr>\n",
       "    <tr>\n",
       "      <th>3</th>\n",
       "      <td>771015</td>\n",
       "      <td>1422</td>\n",
       "      <td>sehr wenige</td>\n",
       "      <td>39.15</td>\n",
       "      <td>weit überdurchschnittlich</td>\n",
       "      <td>40</td>\n",
       "      <td>privat</td>\n",
       "      <td>59</td>\n",
       "      <td>10</td>\n",
       "      <td>Ja, die Notfallstufe ist noch nicht vereinbart.</td>\n",
       "    </tr>\n",
       "    <tr>\n",
       "      <th>4</th>\n",
       "      <td>771016</td>\n",
       "      <td>21996</td>\n",
       "      <td>sehr viele</td>\n",
       "      <td>46.59</td>\n",
       "      <td>überdurchschnittlich</td>\n",
       "      <td>352</td>\n",
       "      <td>privat</td>\n",
       "      <td>508</td>\n",
       "      <td>8</td>\n",
       "      <td>Stufe 2 - Erweiterte Notfallversorgung</td>\n",
       "    </tr>\n",
       "  </tbody>\n",
       "</table>\n",
       "</div>"
      ],
      "text/plain": [
       "  hospital_id  total_treatments total_treatments_label  nursing_quotient  \\\n",
       "0      771003             23479             sehr viele             60.11   \n",
       "1      771011             13563                  viele             55.68   \n",
       "2      771012             15347                  viele             48.69   \n",
       "3      771015              1422            sehr wenige             39.15   \n",
       "4      771016             21996             sehr viele             46.59   \n",
       "\n",
       "       nursing_quotient_label nursing_count provider_type  bed_count  \\\n",
       "0  weit unterdurchschnittlich           363    öffentlich        539   \n",
       "1       unterdurchschnittlich           227    öffentlich        320   \n",
       "2        überdurchschnittlich           268    öffentlich        300   \n",
       "3   weit überdurchschnittlich            40        privat         59   \n",
       "4        überdurchschnittlich           352        privat        508   \n",
       "\n",
       "   semi_residential_count                                emergency_service  \n",
       "0                      52           Stufe 2 - Erweiterte Notfallversorgung  \n",
       "1                      20           Stufe 2 - Erweiterte Notfallversorgung  \n",
       "2                       8           Stufe 2 - Erweiterte Notfallversorgung  \n",
       "3                      10  Ja, die Notfallstufe ist noch nicht vereinbart.  \n",
       "4                       8           Stufe 2 - Erweiterte Notfallversorgung  "
      ]
     },
     "execution_count": 162,
     "metadata": {},
     "output_type": "execute_result"
    }
   ],
   "source": [
    "# load details data\n",
    "df_hospital_details = pd.read_csv('../data/in/staging/atlas_details.csv', dtype={'hospital_id': str, 'nursing_count': str})\n",
    "df_hospital_details.head()"
   ]
  },
  {
   "cell_type": "markdown",
   "metadata": {},
   "source": [
    "### Processing"
   ]
  },
  {
   "cell_type": "code",
   "execution_count": 163,
   "metadata": {},
   "outputs": [],
   "source": [
    "# drop total_treatments_label and nursing_count_label column\n",
    "df_hospital_details = df_hospital_details.drop(columns=['nursing_quotient_label', 'total_treatments_label'])"
   ]
  },
  {
   "cell_type": "code",
   "execution_count": 164,
   "metadata": {},
   "outputs": [],
   "source": [
    "# correct dtype of nursing_count\n",
    "df_hospital_details['nursing_count'] = df_hospital_details['nursing_count'].str.replace('.', '')\n",
    "df_hospital_details['nursing_count'] = df_hospital_details['nursing_count'].astype(int)\n",
    "\n",
    "# clean up the emergency_service column\n",
    "df_hospital_details['emergency_service'] = df_hospital_details['emergency_service'].apply(lambda x: x.split('\\n')[0])\n",
    "\n",
    "# create new column has_emergency_service\n",
    "has_emergency_service_mapping = {\n",
    "    'Stufe 1 - Basisnotfallversorgung': True,\n",
    "    'Stufe 2 - Erweiterte Notfallversorgung': True,\n",
    "    'Stufe 3 - Umfassende Notfallversorgung': True,\n",
    "    'Ja, die Notfallstufe ist noch nicht vereinbart.': True,\n",
    "    'Keine Teilnahme an einer Notfallstufe.': False,\n",
    "    'Keine Information verfügbar.': False\n",
    "}\n",
    "df_hospital_details['has_emergency_service'] = df_hospital_details['emergency_service'].map(has_emergency_service_mapping)\n",
    "\n",
    "# rename column emergency_service to emergency_service_level\n",
    "df_hospital_details = df_hospital_details.rename(columns={'emergency_service': 'emergency_service_level'})"
   ]
  },
  {
   "cell_type": "code",
   "execution_count": 165,
   "metadata": {},
   "outputs": [],
   "source": [
    "# create mapping for emergency_service_level\n",
    "emergency_service_level_mapping = {\n",
    "    'Stufe 1 - Basisnotfallversorgung': 1,\n",
    "    'Stufe 2 - Erweiterte Notfallversorgung': 2,\n",
    "    'Stufe 3 - Umfassende Notfallversorgung': 3,\n",
    "    'Ja, die Notfallstufe ist noch nicht vereinbart.': 0,\n",
    "    'Keine Teilnahme an einer Notfallstufe.': -1,\n",
    "    'Keine Information verfügbar.': -2\n",
    "}\n",
    "\n",
    "# map emergency_service_level\n",
    "df_hospital_details['emergency_service_level'] = df_hospital_details['emergency_service_level'].map(emergency_service_level_mapping)"
   ]
  },
  {
   "cell_type": "code",
   "execution_count": 166,
   "metadata": {},
   "outputs": [],
   "source": [
    "# create mapping for provider_type\n",
    "df_hospital_details['provider_type'].value_counts()\n",
    "provider_type_mapping = {\n",
    "    'freigemeinnützig': 'F',\n",
    "    'öffentlich': 'O',\n",
    "    'privat': 'P'\n",
    "}\n",
    "\n",
    "# map provider_type\n",
    "df_hospital_details['provider_type'] = df_hospital_details['provider_type'].map(provider_type_mapping)\n",
    "df_hospital_details.rename(columns={'provider_type': 'provider_type_code'})\n",
    "\n",
    "# create code dictionary for database\n",
    "df_provider_type_codes = pd.DataFrame({'provider_type_code': ['F', 'O', 'P']})\n",
    "df_provider_type_dict_de = pd.DataFrame({'provider_type_code': ['F', 'O', 'P'], 'provider_type': ['freigemeinnützig', 'öffentlich', 'privat'], 'language_code': ['de', 'de', 'de']})\n",
    "df_provider_type_dict_en = pd.DataFrame({'provider_type_code': ['F', 'O', 'P'], 'provider_type': ['non-profit', 'public', 'private'], 'language_code': ['en', 'en', 'en']})\n",
    "df_privider_type_dict = pd.concat([df_provider_type_dict_de, df_provider_type_dict_en], axis=0)\n",
    "\n",
    "# renaming prvoider columns\n",
    "df_hospital_details = df_hospital_details.rename(columns={'provider_type': 'provider_type_code'})\n",
    "df_provider_type_dict = df_privider_type_dict.rename(columns={'provider_type': 'provider_type_name'})"
   ]
  },
  {
   "cell_type": "code",
   "execution_count": 167,
   "metadata": {},
   "outputs": [],
   "source": [
    "# create additional columns to store total number of stations (bed + semi-residential)\n",
    "df_hospital_details['total_stations_count'] = df_hospital_details['bed_count'] + df_hospital_details['semi_residential_count']"
   ]
  },
  {
   "cell_type": "markdown",
   "metadata": {},
   "source": [
    "### Data Out"
   ]
  },
  {
   "cell_type": "code",
   "execution_count": 168,
   "metadata": {},
   "outputs": [],
   "source": [
    "# save details data ready for database\n",
    "df_hospital_details.to_csv('../data/db_csv/hospital_details.csv', index=False, encoding='utf-8')\n",
    "\n",
    "# save provider type code dictionary and PK table ready for database\n",
    "df_privider_type_dict.to_csv('../data/db_csv/provider_types_dict.csv', index=False, encoding='utf-8')\n",
    "df_provider_type_codes.to_csv('../data/db_csv/provider_type_codes.csv', index=False, encoding='utf-8')"
   ]
  },
  {
   "cell_type": "code",
   "execution_count": 169,
   "metadata": {},
   "outputs": [
    {
     "data": {
      "text/html": [
       "<div>\n",
       "<style scoped>\n",
       "    .dataframe tbody tr th:only-of-type {\n",
       "        vertical-align: middle;\n",
       "    }\n",
       "\n",
       "    .dataframe tbody tr th {\n",
       "        vertical-align: top;\n",
       "    }\n",
       "\n",
       "    .dataframe thead th {\n",
       "        text-align: right;\n",
       "    }\n",
       "</style>\n",
       "<table border=\"1\" class=\"dataframe\">\n",
       "  <thead>\n",
       "    <tr style=\"text-align: right;\">\n",
       "      <th></th>\n",
       "      <th>hospital_id</th>\n",
       "      <th>total_treatments</th>\n",
       "      <th>nursing_quotient</th>\n",
       "      <th>nursing_count</th>\n",
       "      <th>provider_type_code</th>\n",
       "      <th>bed_count</th>\n",
       "      <th>semi_residential_count</th>\n",
       "      <th>emergency_service_level</th>\n",
       "      <th>has_emergency_service</th>\n",
       "      <th>total_stations_count</th>\n",
       "    </tr>\n",
       "  </thead>\n",
       "  <tbody>\n",
       "    <tr>\n",
       "      <th>0</th>\n",
       "      <td>771003</td>\n",
       "      <td>23479</td>\n",
       "      <td>60.11</td>\n",
       "      <td>363</td>\n",
       "      <td>O</td>\n",
       "      <td>539</td>\n",
       "      <td>52</td>\n",
       "      <td>2</td>\n",
       "      <td>True</td>\n",
       "      <td>591</td>\n",
       "    </tr>\n",
       "    <tr>\n",
       "      <th>1</th>\n",
       "      <td>771011</td>\n",
       "      <td>13563</td>\n",
       "      <td>55.68</td>\n",
       "      <td>227</td>\n",
       "      <td>O</td>\n",
       "      <td>320</td>\n",
       "      <td>20</td>\n",
       "      <td>2</td>\n",
       "      <td>True</td>\n",
       "      <td>340</td>\n",
       "    </tr>\n",
       "    <tr>\n",
       "      <th>2</th>\n",
       "      <td>771012</td>\n",
       "      <td>15347</td>\n",
       "      <td>48.69</td>\n",
       "      <td>268</td>\n",
       "      <td>O</td>\n",
       "      <td>300</td>\n",
       "      <td>8</td>\n",
       "      <td>2</td>\n",
       "      <td>True</td>\n",
       "      <td>308</td>\n",
       "    </tr>\n",
       "    <tr>\n",
       "      <th>3</th>\n",
       "      <td>771015</td>\n",
       "      <td>1422</td>\n",
       "      <td>39.15</td>\n",
       "      <td>40</td>\n",
       "      <td>P</td>\n",
       "      <td>59</td>\n",
       "      <td>10</td>\n",
       "      <td>0</td>\n",
       "      <td>True</td>\n",
       "      <td>69</td>\n",
       "    </tr>\n",
       "    <tr>\n",
       "      <th>4</th>\n",
       "      <td>771016</td>\n",
       "      <td>21996</td>\n",
       "      <td>46.59</td>\n",
       "      <td>352</td>\n",
       "      <td>P</td>\n",
       "      <td>508</td>\n",
       "      <td>8</td>\n",
       "      <td>2</td>\n",
       "      <td>True</td>\n",
       "      <td>516</td>\n",
       "    </tr>\n",
       "  </tbody>\n",
       "</table>\n",
       "</div>"
      ],
      "text/plain": [
       "  hospital_id  total_treatments  nursing_quotient  nursing_count  \\\n",
       "0      771003             23479             60.11            363   \n",
       "1      771011             13563             55.68            227   \n",
       "2      771012             15347             48.69            268   \n",
       "3      771015              1422             39.15             40   \n",
       "4      771016             21996             46.59            352   \n",
       "\n",
       "  provider_type_code  bed_count  semi_residential_count  \\\n",
       "0                  O        539                      52   \n",
       "1                  O        320                      20   \n",
       "2                  O        300                       8   \n",
       "3                  P         59                      10   \n",
       "4                  P        508                       8   \n",
       "\n",
       "   emergency_service_level  has_emergency_service  total_stations_count  \n",
       "0                        2                   True                   591  \n",
       "1                        2                   True                   340  \n",
       "2                        2                   True                   308  \n",
       "3                        0                   True                    69  \n",
       "4                        2                   True                   516  "
      ]
     },
     "execution_count": 169,
     "metadata": {},
     "output_type": "execute_result"
    }
   ],
   "source": [
    "df_hospital_details.head()"
   ]
  },
  {
   "cell_type": "code",
   "execution_count": 170,
   "metadata": {},
   "outputs": [
    {
     "data": {
      "text/html": [
       "<div>\n",
       "<style scoped>\n",
       "    .dataframe tbody tr th:only-of-type {\n",
       "        vertical-align: middle;\n",
       "    }\n",
       "\n",
       "    .dataframe tbody tr th {\n",
       "        vertical-align: top;\n",
       "    }\n",
       "\n",
       "    .dataframe thead th {\n",
       "        text-align: right;\n",
       "    }\n",
       "</style>\n",
       "<table border=\"1\" class=\"dataframe\">\n",
       "  <thead>\n",
       "    <tr style=\"text-align: right;\">\n",
       "      <th></th>\n",
       "      <th>provider_type_code</th>\n",
       "      <th>provider_type</th>\n",
       "      <th>language_code</th>\n",
       "    </tr>\n",
       "  </thead>\n",
       "  <tbody>\n",
       "    <tr>\n",
       "      <th>0</th>\n",
       "      <td>F</td>\n",
       "      <td>freigemeinnützig</td>\n",
       "      <td>de</td>\n",
       "    </tr>\n",
       "    <tr>\n",
       "      <th>1</th>\n",
       "      <td>O</td>\n",
       "      <td>öffentlich</td>\n",
       "      <td>de</td>\n",
       "    </tr>\n",
       "    <tr>\n",
       "      <th>2</th>\n",
       "      <td>P</td>\n",
       "      <td>privat</td>\n",
       "      <td>de</td>\n",
       "    </tr>\n",
       "    <tr>\n",
       "      <th>0</th>\n",
       "      <td>F</td>\n",
       "      <td>non-profit</td>\n",
       "      <td>en</td>\n",
       "    </tr>\n",
       "    <tr>\n",
       "      <th>1</th>\n",
       "      <td>O</td>\n",
       "      <td>public</td>\n",
       "      <td>en</td>\n",
       "    </tr>\n",
       "  </tbody>\n",
       "</table>\n",
       "</div>"
      ],
      "text/plain": [
       "  provider_type_code     provider_type language_code\n",
       "0                  F  freigemeinnützig            de\n",
       "1                  O        öffentlich            de\n",
       "2                  P            privat            de\n",
       "0                  F        non-profit            en\n",
       "1                  O            public            en"
      ]
     },
     "execution_count": 170,
     "metadata": {},
     "output_type": "execute_result"
    }
   ],
   "source": [
    "df_privider_type_dict.head()"
   ]
  },
  {
   "cell_type": "code",
   "execution_count": 171,
   "metadata": {},
   "outputs": [
    {
     "data": {
      "text/html": [
       "<div>\n",
       "<style scoped>\n",
       "    .dataframe tbody tr th:only-of-type {\n",
       "        vertical-align: middle;\n",
       "    }\n",
       "\n",
       "    .dataframe tbody tr th {\n",
       "        vertical-align: top;\n",
       "    }\n",
       "\n",
       "    .dataframe thead th {\n",
       "        text-align: right;\n",
       "    }\n",
       "</style>\n",
       "<table border=\"1\" class=\"dataframe\">\n",
       "  <thead>\n",
       "    <tr style=\"text-align: right;\">\n",
       "      <th></th>\n",
       "      <th>provider_type_code</th>\n",
       "    </tr>\n",
       "  </thead>\n",
       "  <tbody>\n",
       "    <tr>\n",
       "      <th>0</th>\n",
       "      <td>F</td>\n",
       "    </tr>\n",
       "    <tr>\n",
       "      <th>1</th>\n",
       "      <td>O</td>\n",
       "    </tr>\n",
       "    <tr>\n",
       "      <th>2</th>\n",
       "      <td>P</td>\n",
       "    </tr>\n",
       "  </tbody>\n",
       "</table>\n",
       "</div>"
      ],
      "text/plain": [
       "  provider_type_code\n",
       "0                  F\n",
       "1                  O\n",
       "2                  P"
      ]
     },
     "execution_count": 171,
     "metadata": {},
     "output_type": "execute_result"
    }
   ],
   "source": [
    "df_provider_type_codes.head()"
   ]
  },
  {
   "cell_type": "markdown",
   "metadata": {},
   "source": [
    "## Hospital certificates"
   ]
  },
  {
   "cell_type": "markdown",
   "metadata": {},
   "source": [
    "### Data In"
   ]
  },
  {
   "cell_type": "code",
   "execution_count": 116,
   "metadata": {},
   "outputs": [
    {
     "data": {
      "text/html": [
       "<div>\n",
       "<style scoped>\n",
       "    .dataframe tbody tr th:only-of-type {\n",
       "        vertical-align: middle;\n",
       "    }\n",
       "\n",
       "    .dataframe tbody tr th {\n",
       "        vertical-align: top;\n",
       "    }\n",
       "\n",
       "    .dataframe thead th {\n",
       "        text-align: right;\n",
       "    }\n",
       "</style>\n",
       "<table border=\"1\" class=\"dataframe\">\n",
       "  <thead>\n",
       "    <tr style=\"text-align: right;\">\n",
       "      <th></th>\n",
       "      <th>hospital_id</th>\n",
       "      <th>certificate</th>\n",
       "    </tr>\n",
       "  </thead>\n",
       "  <tbody>\n",
       "    <tr>\n",
       "      <th>0</th>\n",
       "      <td>771003</td>\n",
       "      <td>EndoProthetikZentrum der Maximalversorgung</td>\n",
       "    </tr>\n",
       "    <tr>\n",
       "      <th>1</th>\n",
       "      <td>771003</td>\n",
       "      <td>Onkologisches Zentrum</td>\n",
       "    </tr>\n",
       "    <tr>\n",
       "      <th>2</th>\n",
       "      <td>771003</td>\n",
       "      <td>Brustkrebszentrum</td>\n",
       "    </tr>\n",
       "    <tr>\n",
       "      <th>3</th>\n",
       "      <td>771003</td>\n",
       "      <td>Darmkrebszentrum</td>\n",
       "    </tr>\n",
       "    <tr>\n",
       "      <th>4</th>\n",
       "      <td>771003</td>\n",
       "      <td>Zentrum für Hämatologische Neoplasien</td>\n",
       "    </tr>\n",
       "  </tbody>\n",
       "</table>\n",
       "</div>"
      ],
      "text/plain": [
       "   hospital_id                                 certificate\n",
       "0       771003  EndoProthetikZentrum der Maximalversorgung\n",
       "1       771003                       Onkologisches Zentrum\n",
       "2       771003                           Brustkrebszentrum\n",
       "3       771003                            Darmkrebszentrum\n",
       "4       771003       Zentrum für Hämatologische Neoplasien"
      ]
     },
     "execution_count": 116,
     "metadata": {},
     "output_type": "execute_result"
    }
   ],
   "source": [
    "df_hospital_certificates = pd.read_csv('../data/in/staging/atlas_certificates.csv')\n",
    "df_hospital_certificates.head()"
   ]
  },
  {
   "cell_type": "markdown",
   "metadata": {},
   "source": [
    "### Processing"
   ]
  },
  {
   "cell_type": "code",
   "execution_count": 117,
   "metadata": {},
   "outputs": [],
   "source": [
    "# get certificate translation mapping\n",
    "certificate_translation_mapping = get_certificate_translation_mapping()"
   ]
  },
  {
   "cell_type": "code",
   "execution_count": 118,
   "metadata": {},
   "outputs": [],
   "source": [
    "# translate certificates\n",
    "df_hospital_certificates_de = df_hospital_certificates.copy()\n",
    "df_hospital_certificates_de['language_code'] = 'de'\n",
    "df_hospital_certificates_en = df_hospital_certificates_de.copy()\n",
    "df_hospital_certificates_en['certificate'] = df_hospital_certificates_en['certificate'].map(certificate_translation_mapping)\n",
    "df_hospital_certificates_en['language_code'] = 'en'"
   ]
  },
  {
   "cell_type": "code",
   "execution_count": 119,
   "metadata": {},
   "outputs": [],
   "source": [
    "# concatenate en and de dataframes\n",
    "df_hospital_certificates = pd.concat([df_hospital_certificates_de, df_hospital_certificates_en], axis=0)"
   ]
  },
  {
   "cell_type": "markdown",
   "metadata": {},
   "source": [
    "### Data Out"
   ]
  },
  {
   "cell_type": "code",
   "execution_count": 120,
   "metadata": {},
   "outputs": [],
   "source": [
    "# save certificates data ready for db\n",
    "df_hospital_certificates.to_csv('../data/db_csv/hospital_certificates.csv', index=False, encoding='utf-8')"
   ]
  },
  {
   "cell_type": "code",
   "execution_count": 121,
   "metadata": {},
   "outputs": [
    {
     "data": {
      "text/html": [
       "<div>\n",
       "<style scoped>\n",
       "    .dataframe tbody tr th:only-of-type {\n",
       "        vertical-align: middle;\n",
       "    }\n",
       "\n",
       "    .dataframe tbody tr th {\n",
       "        vertical-align: top;\n",
       "    }\n",
       "\n",
       "    .dataframe thead th {\n",
       "        text-align: right;\n",
       "    }\n",
       "</style>\n",
       "<table border=\"1\" class=\"dataframe\">\n",
       "  <thead>\n",
       "    <tr style=\"text-align: right;\">\n",
       "      <th></th>\n",
       "      <th>hospital_id</th>\n",
       "      <th>certificate</th>\n",
       "      <th>language_code</th>\n",
       "    </tr>\n",
       "  </thead>\n",
       "  <tbody>\n",
       "    <tr>\n",
       "      <th>0</th>\n",
       "      <td>771003</td>\n",
       "      <td>EndoProthetikZentrum der Maximalversorgung</td>\n",
       "      <td>de</td>\n",
       "    </tr>\n",
       "    <tr>\n",
       "      <th>1</th>\n",
       "      <td>771003</td>\n",
       "      <td>Onkologisches Zentrum</td>\n",
       "      <td>de</td>\n",
       "    </tr>\n",
       "    <tr>\n",
       "      <th>2</th>\n",
       "      <td>771003</td>\n",
       "      <td>Brustkrebszentrum</td>\n",
       "      <td>de</td>\n",
       "    </tr>\n",
       "    <tr>\n",
       "      <th>3</th>\n",
       "      <td>771003</td>\n",
       "      <td>Darmkrebszentrum</td>\n",
       "      <td>de</td>\n",
       "    </tr>\n",
       "    <tr>\n",
       "      <th>4</th>\n",
       "      <td>771003</td>\n",
       "      <td>Zentrum für Hämatologische Neoplasien</td>\n",
       "      <td>de</td>\n",
       "    </tr>\n",
       "  </tbody>\n",
       "</table>\n",
       "</div>"
      ],
      "text/plain": [
       "   hospital_id                                 certificate language_code\n",
       "0       771003  EndoProthetikZentrum der Maximalversorgung            de\n",
       "1       771003                       Onkologisches Zentrum            de\n",
       "2       771003                           Brustkrebszentrum            de\n",
       "3       771003                            Darmkrebszentrum            de\n",
       "4       771003       Zentrum für Hämatologische Neoplasien            de"
      ]
     },
     "execution_count": 121,
     "metadata": {},
     "output_type": "execute_result"
    }
   ],
   "source": [
    "df_hospital_certificates.head()"
   ]
  },
  {
   "cell_type": "markdown",
   "metadata": {},
   "source": [
    "## Hospital departments"
   ]
  },
  {
   "cell_type": "markdown",
   "metadata": {},
   "source": [
    "### Data In"
   ]
  },
  {
   "cell_type": "code",
   "execution_count": 122,
   "metadata": {},
   "outputs": [],
   "source": [
    "# load department labels and hospital department data\n",
    "df_department_labels = pd.read_csv('../data/in/staging/departments_general_dict.csv', dtype={'department_id': str})\n",
    "df_department_focus_labels = pd.read_csv('../data/in/staging/departments_focus_dict.csv', dtype={'department_id': str})\n",
    "df_department_labels_concat = pd.concat([df_department_labels, df_department_focus_labels])\n",
    "df_hospital_departments = pd.read_csv('../data/in/staging/atlas_departments.csv')"
   ]
  },
  {
   "cell_type": "markdown",
   "metadata": {},
   "source": [
    "### Processing"
   ]
  },
  {
   "cell_type": "code",
   "execution_count": 123,
   "metadata": {},
   "outputs": [],
   "source": [
    "# rename department_labeles with 'ohne Differenzierung' (=\"no focus specified\")\n",
    "df_hospital_departments['department_name'] = df_hospital_departments['department_name'].apply(lambda x: x.split('/')[0] if 'ohne Differenzierung' in x else x)\n",
    "\n",
    "# streamline department_labels with '/ ' instead of '/'\n",
    "df_hospital_departments['department_name'] = df_hospital_departments['department_name'].apply(lambda x: x.replace('/ ', '/').replace(' /', '/'))\n",
    "\n",
    "# correct '(Intensivabteilung)' to 'Intensivmedizin'\n",
    "df_hospital_departments['department_name'] = df_hospital_departments['department_name'].apply(lambda x: x.replace(' (Intensivabteilung)', '/Intensivmedizin'))\n",
    "\n",
    "# rename department_label 'Neurologie/Schwerpunkt Schlaganfallpatienten (stroke units, Artikel 7 § 1 Abs. 3 GKV-SolG)'\n",
    "df_hospital_departments['department_name'] = df_hospital_departments['department_name'].replace('Neurologie/Schwerpunkt Schlaganfallpatienten (stroke units, Artikel 7 § 1 Abs. 3 GKV-SolG)', 'Neurologie/Schwerpunkt Schlaganfallpatienten')\n",
    "\n",
    "# rename department_label 'Innere Medizin/Schwerpunkt Schlaganfallpatienten (stroke units, Artikel 7 § 1 Abs. 3 GKV-SolG)'\n",
    "df_hospital_departments['department_name'] = df_hospital_departments['department_name'].replace('Innere Medizin/Schwerpunkt Schlaganfallpatienten (stroke units, Artikel 7 § 1 Abs. 3 GKV-SolG)', 'Innere Medizin/Schwerpunkt Schlaganfallpatienten')\n",
    "\n",
    "# rename department_label 'Orthopädie/Rheumatologie'\n",
    "df_hospital_departments['department_name'] = df_hospital_departments['department_name'].replace('Orthopädie/Rheumatologie', 'Orthopädie/Schwerpunkt Rheumatologie')"
   ]
  },
  {
   "cell_type": "code",
   "execution_count": 124,
   "metadata": {},
   "outputs": [],
   "source": [
    "# create dictionary to translate department labels to department ids\n",
    "departments_dict = {}\n",
    "for department_label in df_department_labels_concat['department_label']:\n",
    "    departments_dict.update({department_label: df_department_labels_concat[df_department_labels_concat['department_label'] == department_label]['department_id'].values[0]})\n",
    "\n",
    "# apply dictionary to rename columns\n",
    "def map_values(value):\n",
    "    return departments_dict.get(value, value)\n",
    "\n",
    "df_hospital_departments['department_id'] = df_hospital_departments['department_name'].apply(map_values)\n",
    "\n",
    "# remove department name column\n",
    "df_hospital_departments = df_hospital_departments.drop(columns=['department_name'])\n",
    "\n",
    "# rename column department_count to treatment_count for database\n",
    "df_hospital_departments = df_hospital_departments.rename(columns={'department_count': 'treatment_count'})\n",
    "\n",
    "# rename column department_label to department_name for database\n",
    "df_department_labels_concat = df_department_labels_concat.rename(columns={'department_label': 'department_name'})"
   ]
  },
  {
   "cell_type": "code",
   "execution_count": 125,
   "metadata": {},
   "outputs": [],
   "source": [
    "# get parent department reference for (sub)departments\n",
    "df_department_labels_concat['parent_department_id'] = df_department_labels_concat['department_id'].apply(lambda x: x[0:2] + ('00'))\n",
    "df_parent_department_labels_ = df_department_labels_concat[['department_id', 'department_name']].rename(columns={'department_id': 'parent_department_id','department_name': 'parent_department_name'})\n",
    "df_departments = pd.merge(df_department_labels_concat, df_parent_department_labels_, on='parent_department_id', how='left')"
   ]
  },
  {
   "cell_type": "code",
   "execution_count": 126,
   "metadata": {},
   "outputs": [],
   "source": [
    "# get department translation mapping\n",
    "department_translation_mapping = get_department_translation_mapping()"
   ]
  },
  {
   "cell_type": "code",
   "execution_count": 127,
   "metadata": {},
   "outputs": [],
   "source": [
    "# translate department names\n",
    "df_departments_de = df_departments.copy()\n",
    "df_departments_de['language_code'] = 'de'\n",
    "df_departments_en = df_departments_de.copy()\n",
    "df_departments_en['department_name'] = df_departments_en['department_name'].map(department_translation_mapping)\n",
    "df_departments_en['parent_department_name'] = df_departments_en['parent_department_name'].map(department_translation_mapping)\n",
    "df_departments_en['language_code'] = 'en'"
   ]
  },
  {
   "cell_type": "code",
   "execution_count": 128,
   "metadata": {},
   "outputs": [],
   "source": [
    "# concatenate en and de dataframes\n",
    "df_departments_dict = pd.concat([df_departments_de, df_departments_en], axis=0)"
   ]
  },
  {
   "cell_type": "code",
   "execution_count": 129,
   "metadata": {},
   "outputs": [],
   "source": [
    "# create department codes for database PKs\n",
    "df_department_ids = df_departments_dict[['department_id']].drop_duplicates()"
   ]
  },
  {
   "cell_type": "code",
   "execution_count": 130,
   "metadata": {},
   "outputs": [],
   "source": [
    "# rename department_id to department_code\n",
    "df_hospital_departments = df_hospital_departments.rename(columns={'department_id': 'department_code'})\n",
    "df_departments_dict = df_departments_dict.rename(columns={'department_id': 'department_code', 'parent_department_id': 'parent_department_code'})\n",
    "df_department_codes = df_department_ids.rename(columns={'department_id': 'department_code'})\n"
   ]
  },
  {
   "cell_type": "markdown",
   "metadata": {},
   "source": [
    "### Data Out"
   ]
  },
  {
   "cell_type": "code",
   "execution_count": 131,
   "metadata": {},
   "outputs": [],
   "source": [
    "# save data ready for database import\n",
    "df_hospital_departments.to_csv('../data/db_csv/hospital_departments.csv', index=False, encoding='utf-8')\n",
    "df_departments_dict.to_csv('../data/db_csv/departments_dict.csv', index=False, encoding='utf-8')\n",
    "df_department_codes.to_csv('../data/db_csv/department_codes.csv', index=False, encoding='utf-8')"
   ]
  },
  {
   "cell_type": "code",
   "execution_count": 132,
   "metadata": {},
   "outputs": [
    {
     "data": {
      "text/html": [
       "<div>\n",
       "<style scoped>\n",
       "    .dataframe tbody tr th:only-of-type {\n",
       "        vertical-align: middle;\n",
       "    }\n",
       "\n",
       "    .dataframe tbody tr th {\n",
       "        vertical-align: top;\n",
       "    }\n",
       "\n",
       "    .dataframe thead th {\n",
       "        text-align: right;\n",
       "    }\n",
       "</style>\n",
       "<table border=\"1\" class=\"dataframe\">\n",
       "  <thead>\n",
       "    <tr style=\"text-align: right;\">\n",
       "      <th></th>\n",
       "      <th>hospital_id</th>\n",
       "      <th>treatment_count</th>\n",
       "      <th>department_code</th>\n",
       "    </tr>\n",
       "  </thead>\n",
       "  <tbody>\n",
       "    <tr>\n",
       "      <th>0</th>\n",
       "      <td>771003</td>\n",
       "      <td>7598</td>\n",
       "      <td>0100</td>\n",
       "    </tr>\n",
       "    <tr>\n",
       "      <th>1</th>\n",
       "      <td>771003</td>\n",
       "      <td>6347</td>\n",
       "      <td>1500</td>\n",
       "    </tr>\n",
       "    <tr>\n",
       "      <th>2</th>\n",
       "      <td>771003</td>\n",
       "      <td>5825</td>\n",
       "      <td>2400</td>\n",
       "    </tr>\n",
       "  </tbody>\n",
       "</table>\n",
       "</div>"
      ],
      "text/plain": [
       "   hospital_id  treatment_count department_code\n",
       "0       771003             7598            0100\n",
       "1       771003             6347            1500\n",
       "2       771003             5825            2400"
      ]
     },
     "execution_count": 132,
     "metadata": {},
     "output_type": "execute_result"
    }
   ],
   "source": [
    "df_hospital_departments.head(3)"
   ]
  },
  {
   "cell_type": "code",
   "execution_count": 133,
   "metadata": {},
   "outputs": [
    {
     "data": {
      "text/html": [
       "<div>\n",
       "<style scoped>\n",
       "    .dataframe tbody tr th:only-of-type {\n",
       "        vertical-align: middle;\n",
       "    }\n",
       "\n",
       "    .dataframe tbody tr th {\n",
       "        vertical-align: top;\n",
       "    }\n",
       "\n",
       "    .dataframe thead th {\n",
       "        text-align: right;\n",
       "    }\n",
       "</style>\n",
       "<table border=\"1\" class=\"dataframe\">\n",
       "  <thead>\n",
       "    <tr style=\"text-align: right;\">\n",
       "      <th></th>\n",
       "      <th>department_code</th>\n",
       "      <th>department_name</th>\n",
       "      <th>parent_department_code</th>\n",
       "      <th>parent_department_name</th>\n",
       "      <th>language_code</th>\n",
       "    </tr>\n",
       "  </thead>\n",
       "  <tbody>\n",
       "    <tr>\n",
       "      <th>0</th>\n",
       "      <td>0100</td>\n",
       "      <td>Innere Medizin</td>\n",
       "      <td>0100</td>\n",
       "      <td>Innere Medizin</td>\n",
       "      <td>de</td>\n",
       "    </tr>\n",
       "    <tr>\n",
       "      <th>1</th>\n",
       "      <td>0200</td>\n",
       "      <td>Geriatrie</td>\n",
       "      <td>0200</td>\n",
       "      <td>Geriatrie</td>\n",
       "      <td>de</td>\n",
       "    </tr>\n",
       "    <tr>\n",
       "      <th>2</th>\n",
       "      <td>0300</td>\n",
       "      <td>Kardiologie</td>\n",
       "      <td>0300</td>\n",
       "      <td>Kardiologie</td>\n",
       "      <td>de</td>\n",
       "    </tr>\n",
       "  </tbody>\n",
       "</table>\n",
       "</div>"
      ],
      "text/plain": [
       "  department_code department_name parent_department_code  \\\n",
       "0            0100  Innere Medizin                   0100   \n",
       "1            0200       Geriatrie                   0200   \n",
       "2            0300     Kardiologie                   0300   \n",
       "\n",
       "  parent_department_name language_code  \n",
       "0         Innere Medizin            de  \n",
       "1              Geriatrie            de  \n",
       "2            Kardiologie            de  "
      ]
     },
     "execution_count": 133,
     "metadata": {},
     "output_type": "execute_result"
    }
   ],
   "source": [
    "df_departments_dict.head(3)"
   ]
  },
  {
   "cell_type": "code",
   "execution_count": 134,
   "metadata": {},
   "outputs": [
    {
     "data": {
      "text/html": [
       "<div>\n",
       "<style scoped>\n",
       "    .dataframe tbody tr th:only-of-type {\n",
       "        vertical-align: middle;\n",
       "    }\n",
       "\n",
       "    .dataframe tbody tr th {\n",
       "        vertical-align: top;\n",
       "    }\n",
       "\n",
       "    .dataframe thead th {\n",
       "        text-align: right;\n",
       "    }\n",
       "</style>\n",
       "<table border=\"1\" class=\"dataframe\">\n",
       "  <thead>\n",
       "    <tr style=\"text-align: right;\">\n",
       "      <th></th>\n",
       "      <th>department_code</th>\n",
       "    </tr>\n",
       "  </thead>\n",
       "  <tbody>\n",
       "    <tr>\n",
       "      <th>0</th>\n",
       "      <td>0100</td>\n",
       "    </tr>\n",
       "    <tr>\n",
       "      <th>1</th>\n",
       "      <td>0200</td>\n",
       "    </tr>\n",
       "    <tr>\n",
       "      <th>2</th>\n",
       "      <td>0300</td>\n",
       "    </tr>\n",
       "  </tbody>\n",
       "</table>\n",
       "</div>"
      ],
      "text/plain": [
       "  department_code\n",
       "0            0100\n",
       "1            0200\n",
       "2            0300"
      ]
     },
     "execution_count": 134,
     "metadata": {},
     "output_type": "execute_result"
    }
   ],
   "source": [
    "df_department_codes.head(3)"
   ]
  },
  {
   "cell_type": "markdown",
   "metadata": {},
   "source": [
    "## Hospital treatments"
   ]
  },
  {
   "cell_type": "markdown",
   "metadata": {},
   "source": [
    "### Data In"
   ]
  },
  {
   "cell_type": "code",
   "execution_count": 135,
   "metadata": {},
   "outputs": [],
   "source": [
    "# load treatments data\n",
    "df_hospital_treatments = pd.DataFrame()\n",
    "m = 50\n",
    "for k in range(34):\n",
    "    df_hospital_treatments_ = pd.read_csv(f'../data/in/staging/treatments_chunks/atlas_treatments_sample_{k*m}-{k*m+m-1}.csv', dtype={'hospital_id': str})\n",
    "    df_hospital_treatments = pd.concat([df_hospital_treatments, df_hospital_treatments_])"
   ]
  },
  {
   "cell_type": "code",
   "execution_count": 136,
   "metadata": {},
   "outputs": [],
   "source": [
    "# load treatments dict data\n",
    "df_treatments_dict = pd.read_csv('../data/in/staging/treatments_dict.csv', dtype={'treatment_id': str})"
   ]
  },
  {
   "cell_type": "code",
   "execution_count": 137,
   "metadata": {},
   "outputs": [],
   "source": [
    "# create code table for database PKs\n",
    "df_treatment_codes = df_treatments_dict[['treatment_code']]"
   ]
  },
  {
   "cell_type": "code",
   "execution_count": 138,
   "metadata": {},
   "outputs": [],
   "source": [
    "treatment_translation_list = get_treatment_translation_list()"
   ]
  },
  {
   "cell_type": "code",
   "execution_count": 139,
   "metadata": {},
   "outputs": [],
   "source": [
    "df_treatments_dict_de = df_treatments_dict.copy()\n",
    "df_treatments_dict_de['language_code'] = 'de'\n",
    "\n",
    "df_treatments_dict_en = df_treatments_dict_de.copy()\n",
    "df_treatments_dict_en['treatment_name'] = treatment_translation_list\n",
    "df_treatments_dict_en['language_code'] = 'en'\n",
    "\n",
    "df_treatments_dict = pd.concat([df_treatments_dict_de, df_treatments_dict_en], axis=0)"
   ]
  },
  {
   "cell_type": "markdown",
   "metadata": {},
   "source": [
    "### Processing"
   ]
  },
  {
   "cell_type": "code",
   "execution_count": 140,
   "metadata": {},
   "outputs": [],
   "source": [
    "# rename columns for database\n",
    "df_hospital_treatments = df_hospital_treatments.rename(columns={'count_number': 'treatment_count', 'count_label': 'treatment_count_label'})\n",
    "\n",
    "# drop treatment_count_label column\n",
    "df_hospital_treatments = df_hospital_treatments.drop(columns=['treatment_count_label'])"
   ]
  },
  {
   "cell_type": "markdown",
   "metadata": {},
   "source": [
    "### Data Out"
   ]
  },
  {
   "cell_type": "code",
   "execution_count": 141,
   "metadata": {},
   "outputs": [],
   "source": [
    "# save data ready for database import\n",
    "df_treatments_dict.to_csv('../data/db_csv/treatments_dict.csv', index=False, encoding='utf-8')\n",
    "df_hospital_treatments.to_csv('../data/db_csv/hospital_treatments.csv', index=False, encoding='utf-8')\n",
    "df_treatment_codes.to_csv('../data/db_csv/treatment_codes.csv', index=False, encoding='utf-8')"
   ]
  },
  {
   "cell_type": "code",
   "execution_count": 142,
   "metadata": {},
   "outputs": [
    {
     "data": {
      "text/html": [
       "<div>\n",
       "<style scoped>\n",
       "    .dataframe tbody tr th:only-of-type {\n",
       "        vertical-align: middle;\n",
       "    }\n",
       "\n",
       "    .dataframe tbody tr th {\n",
       "        vertical-align: top;\n",
       "    }\n",
       "\n",
       "    .dataframe thead th {\n",
       "        text-align: right;\n",
       "    }\n",
       "</style>\n",
       "<table border=\"1\" class=\"dataframe\">\n",
       "  <thead>\n",
       "    <tr style=\"text-align: right;\">\n",
       "      <th></th>\n",
       "      <th>treatment_code</th>\n",
       "      <th>treatment_name</th>\n",
       "      <th>language_code</th>\n",
       "    </tr>\n",
       "  </thead>\n",
       "  <tbody>\n",
       "    <tr>\n",
       "      <th>0</th>\n",
       "      <td>KAHKO0</td>\n",
       "      <td>Chirurgischer Herzklappenersatz</td>\n",
       "      <td>de</td>\n",
       "    </tr>\n",
       "    <tr>\n",
       "      <th>1</th>\n",
       "      <td>KAHM0</td>\n",
       "      <td>Minimal-invasiver Herzklappenersatz</td>\n",
       "      <td>de</td>\n",
       "    </tr>\n",
       "    <tr>\n",
       "      <th>2</th>\n",
       "      <td>KAKIA</td>\n",
       "      <td>Bypassoperation des Herzens</td>\n",
       "      <td>de</td>\n",
       "    </tr>\n",
       "  </tbody>\n",
       "</table>\n",
       "</div>"
      ],
      "text/plain": [
       "  treatment_code                       treatment_name language_code\n",
       "0         KAHKO0      Chirurgischer Herzklappenersatz            de\n",
       "1          KAHM0  Minimal-invasiver Herzklappenersatz            de\n",
       "2          KAKIA          Bypassoperation des Herzens            de"
      ]
     },
     "execution_count": 142,
     "metadata": {},
     "output_type": "execute_result"
    }
   ],
   "source": [
    "df_treatments_dict.head(3)"
   ]
  },
  {
   "cell_type": "code",
   "execution_count": 143,
   "metadata": {},
   "outputs": [
    {
     "data": {
      "text/html": [
       "<div>\n",
       "<style scoped>\n",
       "    .dataframe tbody tr th:only-of-type {\n",
       "        vertical-align: middle;\n",
       "    }\n",
       "\n",
       "    .dataframe tbody tr th {\n",
       "        vertical-align: top;\n",
       "    }\n",
       "\n",
       "    .dataframe thead th {\n",
       "        text-align: right;\n",
       "    }\n",
       "</style>\n",
       "<table border=\"1\" class=\"dataframe\">\n",
       "  <thead>\n",
       "    <tr style=\"text-align: right;\">\n",
       "      <th></th>\n",
       "      <th>hospital_id</th>\n",
       "      <th>treatment_code</th>\n",
       "      <th>treatment_count</th>\n",
       "    </tr>\n",
       "  </thead>\n",
       "  <tbody>\n",
       "    <tr>\n",
       "      <th>0</th>\n",
       "      <td>771003</td>\n",
       "      <td>KAHKO0</td>\n",
       "      <td>0</td>\n",
       "    </tr>\n",
       "    <tr>\n",
       "      <th>1</th>\n",
       "      <td>771003</td>\n",
       "      <td>KAHM0</td>\n",
       "      <td>0</td>\n",
       "    </tr>\n",
       "    <tr>\n",
       "      <th>2</th>\n",
       "      <td>771003</td>\n",
       "      <td>KAKIA</td>\n",
       "      <td>0</td>\n",
       "    </tr>\n",
       "  </tbody>\n",
       "</table>\n",
       "</div>"
      ],
      "text/plain": [
       "  hospital_id treatment_code  treatment_count\n",
       "0      771003         KAHKO0                0\n",
       "1      771003          KAHM0                0\n",
       "2      771003          KAKIA                0"
      ]
     },
     "execution_count": 143,
     "metadata": {},
     "output_type": "execute_result"
    }
   ],
   "source": [
    "df_hospital_treatments.head(3)"
   ]
  },
  {
   "cell_type": "code",
   "execution_count": 144,
   "metadata": {},
   "outputs": [
    {
     "data": {
      "text/html": [
       "<div>\n",
       "<style scoped>\n",
       "    .dataframe tbody tr th:only-of-type {\n",
       "        vertical-align: middle;\n",
       "    }\n",
       "\n",
       "    .dataframe tbody tr th {\n",
       "        vertical-align: top;\n",
       "    }\n",
       "\n",
       "    .dataframe thead th {\n",
       "        text-align: right;\n",
       "    }\n",
       "</style>\n",
       "<table border=\"1\" class=\"dataframe\">\n",
       "  <thead>\n",
       "    <tr style=\"text-align: right;\">\n",
       "      <th></th>\n",
       "      <th>treatment_code</th>\n",
       "    </tr>\n",
       "  </thead>\n",
       "  <tbody>\n",
       "    <tr>\n",
       "      <th>0</th>\n",
       "      <td>KAHKO0</td>\n",
       "    </tr>\n",
       "    <tr>\n",
       "      <th>1</th>\n",
       "      <td>KAHM0</td>\n",
       "    </tr>\n",
       "    <tr>\n",
       "      <th>2</th>\n",
       "      <td>KAKIA</td>\n",
       "    </tr>\n",
       "  </tbody>\n",
       "</table>\n",
       "</div>"
      ],
      "text/plain": [
       "  treatment_code\n",
       "0         KAHKO0\n",
       "1          KAHM0\n",
       "2          KAKIA"
      ]
     },
     "execution_count": 144,
     "metadata": {},
     "output_type": "execute_result"
    }
   ],
   "source": [
    "df_treatment_codes.head(3)"
   ]
  },
  {
   "cell_type": "markdown",
   "metadata": {},
   "source": [
    "## Federal states"
   ]
  },
  {
   "cell_type": "markdown",
   "metadata": {},
   "source": [
    "### Data In"
   ]
  },
  {
   "cell_type": "code",
   "execution_count": 145,
   "metadata": {},
   "outputs": [],
   "source": [
    "# load zip dict data\n",
    "df_zip_dict = pd.read_csv('../data/in/raw/zip_dict/georef-germany-postleitzahl.csv', dtype={'Name': str}, sep=';')[['Name', 'Land name']]\n",
    "df_zip_dict = df_zip_dict.rename(columns={'Name': 'zip', 'Land name': 'federal_state_name'})"
   ]
  },
  {
   "cell_type": "code",
   "execution_count": 146,
   "metadata": {},
   "outputs": [],
   "source": [
    "# load and prepare population data\n",
    "df_population = pd.read_csv('../data/in/raw/federal_states/Bevölkerung - Bundesländer.csv', dtype={'Gesamt': str})[['Bundesland', 'Gesamt']]\n",
    "df_population = df_population.rename(columns={'Bundesland': 'federal_state_name', 'Gesamt': 'population'})\n",
    "df_population['population'] = df_population['population'].apply(lambda x: x.replace(' ', '')).astype(int)\n",
    "\n",
    "# load and prepare area data\n",
    "df_area = pd.read_csv('../data/in/raw/federal_states/Gebietsfläche.csv', dtype={'Gebietsfläche': str})[['Bundesland', 'Gebietsfläche']]\n",
    "df_area = df_area.rename(columns={'Bundesland': 'federal_state_name', 'Gebietsfläche': 'area'})\n",
    "df_area['area'] = df_area['area'].replace(',', '.', regex=True).astype(float)"
   ]
  },
  {
   "cell_type": "markdown",
   "metadata": {},
   "source": [
    "### Processing"
   ]
  },
  {
   "cell_type": "code",
   "execution_count": 147,
   "metadata": {},
   "outputs": [],
   "source": [
    "# translate state codes\n",
    "federal_state_codes = {\n",
    "    'Baden-Württemberg': 'BW',\n",
    "    'Bayern': 'BY',\n",
    "    'Berlin': 'BE',\n",
    "    'Brandenburg': 'BB',\n",
    "    'Bremen': 'HB',\n",
    "    'Hamburg': 'HH',\n",
    "    'Hessen': 'HE',\n",
    "    'Niedersachsen': 'NI',\n",
    "    'Mecklenburg-Vorpommern': 'MV',\n",
    "    'Nordrhein-Westfalen': 'NW',\n",
    "    'Rheinland-Pfalz': 'RP',\n",
    "    'Saarland': 'SL',\n",
    "    'Sachsen': 'SN',\n",
    "    'Sachsen-Anhalt': 'ST',\n",
    "    'Schleswig-Holstein': 'SH',\n",
    "    'Thüringen': 'TH'\n",
    "}\n",
    "\n",
    "df_zip_dict['federal_state_code'] = df_zip_dict['federal_state_name'].map(federal_state_codes)"
   ]
  },
  {
   "cell_type": "code",
   "execution_count": 148,
   "metadata": {},
   "outputs": [],
   "source": [
    "# create federal state dataframe\n",
    "df_federal_states = pd.DataFrame({'federal_state_code': list(federal_state_codes.values()), 'federal_state_name': list(federal_state_codes.keys())})"
   ]
  },
  {
   "cell_type": "code",
   "execution_count": 149,
   "metadata": {},
   "outputs": [],
   "source": [
    "# merge federal state  with area data\n",
    "df_federal_states = pd.merge(df_federal_states, df_area, on='federal_state_name')\n",
    "\n",
    "# merge federal states with population data\n",
    "df_federal_states = pd.merge(df_federal_states, df_population, on='federal_state_name')"
   ]
  },
  {
   "cell_type": "code",
   "execution_count": 150,
   "metadata": {},
   "outputs": [],
   "source": [
    "# get federal state translation list\n",
    "federal_states_translation_list = get_federal_states_translation_list()"
   ]
  },
  {
   "cell_type": "code",
   "execution_count": 151,
   "metadata": {},
   "outputs": [],
   "source": [
    "# translate federal states and create dict for database\n",
    "df_federal_states_dict_ = df_federal_states.copy()\n",
    "df_federal_states_dict_ = df_federal_states_dict_.drop(columns=['area', 'population'])\n",
    "\n",
    "df_federal_states_dict_de = df_federal_states_dict_.copy()\n",
    "df_federal_states_dict_de['language_code'] = 'de'\n",
    "\n",
    "df_federal_states_dict_en = df_federal_states_dict_de.copy()\n",
    "df_federal_states_dict_en['federal_state_name'] = federal_states_translation_list\n",
    "df_federal_states_dict_en['language_code'] = 'en'\n",
    "\n",
    "df_federal_states_dict = pd.concat([df_federal_states_dict_de, df_federal_states_dict_en], axis=0)"
   ]
  },
  {
   "cell_type": "code",
   "execution_count": 152,
   "metadata": {},
   "outputs": [],
   "source": [
    "# drop state name in federal_states dataframe\n",
    "df_federal_states = df_federal_states.drop(columns=['federal_state_name'])"
   ]
  },
  {
   "cell_type": "markdown",
   "metadata": {},
   "source": [
    "### Data Out"
   ]
  },
  {
   "cell_type": "code",
   "execution_count": 153,
   "metadata": {},
   "outputs": [],
   "source": [
    "# save data ready for database import\n",
    "df_federal_states.to_csv('../data/db_csv/federal_states.csv', index=False, encoding='utf-8')\n",
    "df_federal_states_dict.to_csv('../data/db_csv/federal_states_dict.csv', index=False, encoding='utf-8')"
   ]
  },
  {
   "cell_type": "code",
   "execution_count": 154,
   "metadata": {},
   "outputs": [
    {
     "data": {
      "text/html": [
       "<div>\n",
       "<style scoped>\n",
       "    .dataframe tbody tr th:only-of-type {\n",
       "        vertical-align: middle;\n",
       "    }\n",
       "\n",
       "    .dataframe tbody tr th {\n",
       "        vertical-align: top;\n",
       "    }\n",
       "\n",
       "    .dataframe thead th {\n",
       "        text-align: right;\n",
       "    }\n",
       "</style>\n",
       "<table border=\"1\" class=\"dataframe\">\n",
       "  <thead>\n",
       "    <tr style=\"text-align: right;\">\n",
       "      <th></th>\n",
       "      <th>federal_state_code</th>\n",
       "      <th>area</th>\n",
       "      <th>population</th>\n",
       "    </tr>\n",
       "  </thead>\n",
       "  <tbody>\n",
       "    <tr>\n",
       "      <th>0</th>\n",
       "      <td>BW</td>\n",
       "      <td>35747.85</td>\n",
       "      <td>11280257</td>\n",
       "    </tr>\n",
       "    <tr>\n",
       "      <th>1</th>\n",
       "      <td>BY</td>\n",
       "      <td>70541.58</td>\n",
       "      <td>13369393</td>\n",
       "    </tr>\n",
       "    <tr>\n",
       "      <th>2</th>\n",
       "      <td>BE</td>\n",
       "      <td>891.12</td>\n",
       "      <td>3755251</td>\n",
       "    </tr>\n",
       "  </tbody>\n",
       "</table>\n",
       "</div>"
      ],
      "text/plain": [
       "  federal_state_code      area  population\n",
       "0                 BW  35747.85    11280257\n",
       "1                 BY  70541.58    13369393\n",
       "2                 BE    891.12     3755251"
      ]
     },
     "execution_count": 154,
     "metadata": {},
     "output_type": "execute_result"
    }
   ],
   "source": [
    "df_federal_states.head(3)"
   ]
  },
  {
   "cell_type": "code",
   "execution_count": 155,
   "metadata": {},
   "outputs": [
    {
     "data": {
      "text/html": [
       "<div>\n",
       "<style scoped>\n",
       "    .dataframe tbody tr th:only-of-type {\n",
       "        vertical-align: middle;\n",
       "    }\n",
       "\n",
       "    .dataframe tbody tr th {\n",
       "        vertical-align: top;\n",
       "    }\n",
       "\n",
       "    .dataframe thead th {\n",
       "        text-align: right;\n",
       "    }\n",
       "</style>\n",
       "<table border=\"1\" class=\"dataframe\">\n",
       "  <thead>\n",
       "    <tr style=\"text-align: right;\">\n",
       "      <th></th>\n",
       "      <th>federal_state_code</th>\n",
       "      <th>federal_state_name</th>\n",
       "      <th>language_code</th>\n",
       "    </tr>\n",
       "  </thead>\n",
       "  <tbody>\n",
       "    <tr>\n",
       "      <th>0</th>\n",
       "      <td>BW</td>\n",
       "      <td>Baden-Württemberg</td>\n",
       "      <td>de</td>\n",
       "    </tr>\n",
       "    <tr>\n",
       "      <th>1</th>\n",
       "      <td>BY</td>\n",
       "      <td>Bayern</td>\n",
       "      <td>de</td>\n",
       "    </tr>\n",
       "    <tr>\n",
       "      <th>2</th>\n",
       "      <td>BE</td>\n",
       "      <td>Berlin</td>\n",
       "      <td>de</td>\n",
       "    </tr>\n",
       "  </tbody>\n",
       "</table>\n",
       "</div>"
      ],
      "text/plain": [
       "  federal_state_code federal_state_name language_code\n",
       "0                 BW  Baden-Württemberg            de\n",
       "1                 BY             Bayern            de\n",
       "2                 BE             Berlin            de"
      ]
     },
     "execution_count": 155,
     "metadata": {},
     "output_type": "execute_result"
    }
   ],
   "source": [
    "df_federal_states_dict.head(3)"
   ]
  },
  {
   "cell_type": "markdown",
   "metadata": {},
   "source": [
    "## Places and Hospital locations"
   ]
  },
  {
   "cell_type": "markdown",
   "metadata": {},
   "source": [
    "### Data In"
   ]
  },
  {
   "cell_type": "code",
   "execution_count": 156,
   "metadata": {},
   "outputs": [],
   "source": [
    "# load places data\n",
    "df_places = pd.read_json('../data/in/raw/atlas/german-places.json', dtype={'p': str})\n",
    "df_places = df_places.rename(columns={'p': 'zip', 'c': 'city_district', 'm': 'name', 'd': 'rural_district', 'lt': 'latitude', 'ln': 'longitude'}).drop(columns=['ct'])\n",
    "\n",
    "# load hospital_locations data\n",
    "df_hospital_locations = pd.read_csv('../data/in/staging/hospital_locations.csv', dtype={'hospital_id': str, 'zip': str})\n",
    "df_hospital_locations = df_hospital_locations.drop(columns=['beds_number'])"
   ]
  },
  {
   "cell_type": "markdown",
   "metadata": {},
   "source": [
    "### Processing"
   ]
  },
  {
   "cell_type": "code",
   "execution_count": 157,
   "metadata": {},
   "outputs": [],
   "source": [
    "# get federal state code for each hospital location\n",
    "df_hospital_locations['federal_state_code'] = df_hospital_locations['zip'].apply(lambda x: df_zip_dict[df_zip_dict['zip'] == x]['federal_state_code'].values[0] if len(df_zip_dict[df_zip_dict['zip'] == x]['federal_state_code'].values) > 0 else np.nan)\n",
    "\n",
    "# get federal state code for missing zips in df_zip_dict for hospital_locations\n",
    "missing_zips_dict_locations = {\n",
    "    '99437': 'TH',\n",
    "    '19049': 'MV',\n",
    "}\n",
    "\n",
    "df_hospital_locations['federal_state_code'] = df_hospital_locations['federal_state_code'].fillna(df_hospital_locations['zip'].map(missing_zips_dict_locations))"
   ]
  },
  {
   "cell_type": "code",
   "execution_count": 158,
   "metadata": {},
   "outputs": [],
   "source": [
    "# get federal state code for all places\n",
    "df_places['federal_state_code'] = df_places['zip'].apply(lambda x: df_zip_dict[df_zip_dict['zip'] == x]['federal_state_code'].values[0] if len(df_zip_dict[df_zip_dict['zip'] == x]['federal_state_code'].values) > 0 else np.nan)\n",
    "\n",
    "# get federal state code for missing zips in df_zip_dict for places\n",
    "missing_zips_dict_places = {\n",
    "    '60312': 'HE',\n",
    "    '60315': 'HE',\n",
    "    '64743': 'HE',\n",
    "    '81248': 'BY',\n",
    "    '99331': 'TH'\n",
    "}\n",
    "\n",
    "df_places['federal_state_code'] = df_places['federal_state_code'].fillna(df_places['zip'].map(missing_zips_dict_places))"
   ]
  },
  {
   "cell_type": "markdown",
   "metadata": {},
   "source": [
    "### Data Out"
   ]
  },
  {
   "cell_type": "code",
   "execution_count": 159,
   "metadata": {},
   "outputs": [],
   "source": [
    "# save data ready for database import\n",
    "df_hospital_locations.to_csv('../data/db_csv/hospital_locations.csv', index=False, encoding='utf-8')\n",
    "df_places.to_csv('../data/db_csv/places.csv', index=False, encoding='utf-8')"
   ]
  },
  {
   "cell_type": "code",
   "execution_count": 160,
   "metadata": {},
   "outputs": [
    {
     "data": {
      "text/html": [
       "<div>\n",
       "<style scoped>\n",
       "    .dataframe tbody tr th:only-of-type {\n",
       "        vertical-align: middle;\n",
       "    }\n",
       "\n",
       "    .dataframe tbody tr th {\n",
       "        vertical-align: top;\n",
       "    }\n",
       "\n",
       "    .dataframe thead th {\n",
       "        text-align: right;\n",
       "    }\n",
       "</style>\n",
       "<table border=\"1\" class=\"dataframe\">\n",
       "  <thead>\n",
       "    <tr style=\"text-align: right;\">\n",
       "      <th></th>\n",
       "      <th>name</th>\n",
       "      <th>street</th>\n",
       "      <th>city</th>\n",
       "      <th>zip</th>\n",
       "      <th>phone</th>\n",
       "      <th>mail</th>\n",
       "      <th>latitude</th>\n",
       "      <th>longitude</th>\n",
       "      <th>link</th>\n",
       "      <th>hospital_id</th>\n",
       "      <th>federal_state_code</th>\n",
       "    </tr>\n",
       "  </thead>\n",
       "  <tbody>\n",
       "    <tr>\n",
       "      <th>0</th>\n",
       "      <td>Klinikum Südstadt Rostock</td>\n",
       "      <td>Südring 81</td>\n",
       "      <td>Rostock</td>\n",
       "      <td>18059</td>\n",
       "      <td>+49 (0)381/4401-0</td>\n",
       "      <td>info@kliniksued-rostock.de</td>\n",
       "      <td>54.071751</td>\n",
       "      <td>12.107268</td>\n",
       "      <td>https://bundes-klinik-atlas.de/krankenhaussuch...</td>\n",
       "      <td>771003</td>\n",
       "      <td>MV</td>\n",
       "    </tr>\n",
       "    <tr>\n",
       "      <th>1</th>\n",
       "      <td>Harzklinikum Dorothea Christiane Erxleben GmbH...</td>\n",
       "      <td>Ditfurter Weg 24</td>\n",
       "      <td>Quedlinburg</td>\n",
       "      <td>06484</td>\n",
       "      <td>+49 (0)3946/9090</td>\n",
       "      <td>info@harzklinikum.com</td>\n",
       "      <td>51.795329</td>\n",
       "      <td>11.163533</td>\n",
       "      <td>https://bundes-klinik-atlas.de/krankenhaussuch...</td>\n",
       "      <td>771011</td>\n",
       "      <td>ST</td>\n",
       "    </tr>\n",
       "    <tr>\n",
       "      <th>2</th>\n",
       "      <td>Harzklinikum Dorothea Christiane Erxleben GmbH...</td>\n",
       "      <td>Ilsenburger Straße 15</td>\n",
       "      <td>Wernigerode</td>\n",
       "      <td>38855</td>\n",
       "      <td>+49 (0)3946/9090</td>\n",
       "      <td>info@harzklinikum.com</td>\n",
       "      <td>51.835429</td>\n",
       "      <td>10.774409</td>\n",
       "      <td>https://bundes-klinik-atlas.de/krankenhaussuch...</td>\n",
       "      <td>771012</td>\n",
       "      <td>ST</td>\n",
       "    </tr>\n",
       "  </tbody>\n",
       "</table>\n",
       "</div>"
      ],
      "text/plain": [
       "                                                name                 street  \\\n",
       "0                          Klinikum Südstadt Rostock             Südring 81   \n",
       "1  Harzklinikum Dorothea Christiane Erxleben GmbH...       Ditfurter Weg 24   \n",
       "2  Harzklinikum Dorothea Christiane Erxleben GmbH...  Ilsenburger Straße 15   \n",
       "\n",
       "          city    zip              phone                        mail  \\\n",
       "0      Rostock  18059  +49 (0)381/4401-0  info@kliniksued-rostock.de   \n",
       "1  Quedlinburg  06484   +49 (0)3946/9090       info@harzklinikum.com   \n",
       "2  Wernigerode  38855   +49 (0)3946/9090       info@harzklinikum.com   \n",
       "\n",
       "    latitude  longitude                                               link  \\\n",
       "0  54.071751  12.107268  https://bundes-klinik-atlas.de/krankenhaussuch...   \n",
       "1  51.795329  11.163533  https://bundes-klinik-atlas.de/krankenhaussuch...   \n",
       "2  51.835429  10.774409  https://bundes-klinik-atlas.de/krankenhaussuch...   \n",
       "\n",
       "  hospital_id federal_state_code  \n",
       "0      771003                 MV  \n",
       "1      771011                 ST  \n",
       "2      771012                 ST  "
      ]
     },
     "execution_count": 160,
     "metadata": {},
     "output_type": "execute_result"
    }
   ],
   "source": [
    "df_hospital_locations.head(3)"
   ]
  },
  {
   "cell_type": "code",
   "execution_count": 161,
   "metadata": {},
   "outputs": [
    {
     "data": {
      "text/html": [
       "<div>\n",
       "<style scoped>\n",
       "    .dataframe tbody tr th:only-of-type {\n",
       "        vertical-align: middle;\n",
       "    }\n",
       "\n",
       "    .dataframe tbody tr th {\n",
       "        vertical-align: top;\n",
       "    }\n",
       "\n",
       "    .dataframe thead th {\n",
       "        text-align: right;\n",
       "    }\n",
       "</style>\n",
       "<table border=\"1\" class=\"dataframe\">\n",
       "  <thead>\n",
       "    <tr style=\"text-align: right;\">\n",
       "      <th></th>\n",
       "      <th>zip</th>\n",
       "      <th>city_district</th>\n",
       "      <th>name</th>\n",
       "      <th>rural_district</th>\n",
       "      <th>latitude</th>\n",
       "      <th>longitude</th>\n",
       "      <th>federal_state_code</th>\n",
       "    </tr>\n",
       "  </thead>\n",
       "  <tbody>\n",
       "    <tr>\n",
       "      <th>0</th>\n",
       "      <td>24937</td>\n",
       "      <td>Altstadt</td>\n",
       "      <td>Flensburg</td>\n",
       "      <td>Flensburg</td>\n",
       "      <td>54.78643</td>\n",
       "      <td>9.43339</td>\n",
       "      <td>SH</td>\n",
       "    </tr>\n",
       "    <tr>\n",
       "      <th>1</th>\n",
       "      <td>24939</td>\n",
       "      <td>Altstadt</td>\n",
       "      <td>Flensburg</td>\n",
       "      <td>Flensburg</td>\n",
       "      <td>54.78643</td>\n",
       "      <td>9.43339</td>\n",
       "      <td>SH</td>\n",
       "    </tr>\n",
       "    <tr>\n",
       "      <th>2</th>\n",
       "      <td>24943</td>\n",
       "      <td>Engelsby</td>\n",
       "      <td>Flensburg</td>\n",
       "      <td>Flensburg</td>\n",
       "      <td>54.79203</td>\n",
       "      <td>9.47724</td>\n",
       "      <td>SH</td>\n",
       "    </tr>\n",
       "  </tbody>\n",
       "</table>\n",
       "</div>"
      ],
      "text/plain": [
       "     zip city_district       name rural_district  latitude  longitude  \\\n",
       "0  24937      Altstadt  Flensburg      Flensburg  54.78643    9.43339   \n",
       "1  24939      Altstadt  Flensburg      Flensburg  54.78643    9.43339   \n",
       "2  24943      Engelsby  Flensburg      Flensburg  54.79203    9.47724   \n",
       "\n",
       "  federal_state_code  \n",
       "0                 SH  \n",
       "1                 SH  \n",
       "2                 SH  "
      ]
     },
     "execution_count": 161,
     "metadata": {},
     "output_type": "execute_result"
    }
   ],
   "source": [
    "df_places.head(3)"
   ]
  }
 ],
 "metadata": {
  "kernelspec": {
   "display_name": ".venv",
   "language": "python",
   "name": "python3"
  },
  "language_info": {
   "codemirror_mode": {
    "name": "ipython",
    "version": 3
   },
   "file_extension": ".py",
   "mimetype": "text/x-python",
   "name": "python",
   "nbconvert_exporter": "python",
   "pygments_lexer": "ipython3",
   "version": "3.12.4"
  }
 },
 "nbformat": 4,
 "nbformat_minor": 2
}
