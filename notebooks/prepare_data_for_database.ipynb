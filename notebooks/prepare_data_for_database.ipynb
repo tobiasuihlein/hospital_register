{
 "cells": [
  {
   "cell_type": "code",
   "execution_count": 113,
   "metadata": {},
   "outputs": [],
   "source": [
    "import pandas as pd\n",
    "import numpy as np"
   ]
  },
  {
   "cell_type": "markdown",
   "metadata": {},
   "source": [
    "## Hospital details"
   ]
  },
  {
   "cell_type": "code",
   "execution_count": 124,
   "metadata": {},
   "outputs": [],
   "source": [
    "# load details data\n",
    "df_hospital_details = pd.read_csv('../data/in/staging/atlas_details.csv')"
   ]
  },
  {
   "cell_type": "code",
   "execution_count": 125,
   "metadata": {},
   "outputs": [],
   "source": [
    "# clean up the emergency_service column\n",
    "df_hospital_details['emergency_service'] = df_hospital_details['emergency_service'].apply(lambda x: x.split('\\n')[0])\n",
    "\n",
    "# create new column has_emergency_service\n",
    "has_emergency_service_mapping = {\n",
    "    'Stufe 1 - Basisnotfallversorgung': True,\n",
    "    'Stufe 2 - Erweiterte Notfallversorgung': True,\n",
    "    'Stufe 3 - Umfassende Notfallversorgung': True,\n",
    "    'Ja, die Notfallstufe ist noch nicht vereinbart.': True,\n",
    "    'Keine Teilnahme an einer Notfallstufe.': False,\n",
    "    'Keine Information verfügbar.': False\n",
    "}\n",
    "df_hospital_details['has_emergency_service'] = df_hospital_details['emergency_service'].map(has_emergency_service_mapping)\n",
    "\n",
    "# rename column emergency_service to emergency_service_level\n",
    "df_hospital_details = df_hospital_details.rename(columns={'emergency_service': 'emergency_service_level'})"
   ]
  },
  {
   "cell_type": "code",
   "execution_count": 126,
   "metadata": {},
   "outputs": [],
   "source": [
    "# create mapping for emergency_service_level\n",
    "emergency_service_level_mapping = {\n",
    "    'Stufe 1 - Basisnotfallversorgung': 1,\n",
    "    'Stufe 2 - Erweiterte Notfallversorgung': 2,\n",
    "    'Stufe 3 - Umfassende Notfallversorgung': 3,\n",
    "    'Ja, die Notfallstufe ist noch nicht vereinbart.': 0,\n",
    "    'Keine Teilnahme an einer Notfallstufe.': -1,\n",
    "    'Keine Information verfügbar.': -2\n",
    "}\n",
    "\n",
    "# map emergency_service_level\n",
    "df_hospital_details['emergency_service_level'] = df_hospital_details['emergency_service_level'].map(emergency_service_level_mapping)"
   ]
  },
  {
   "cell_type": "code",
   "execution_count": 127,
   "metadata": {},
   "outputs": [],
   "source": [
    "# save details data ready for db\n",
    "df_hospital_details.to_csv('../data/db_csv/hospital_details.csv', index=False)"
   ]
  },
  {
   "cell_type": "markdown",
   "metadata": {},
   "source": [
    "## Hospital certificates"
   ]
  },
  {
   "cell_type": "code",
   "execution_count": 44,
   "metadata": {},
   "outputs": [],
   "source": [
    "df_hospital_certificates = pd.read_csv('../data/in/staging/atlas_certificates.csv')"
   ]
  },
  {
   "cell_type": "code",
   "execution_count": 47,
   "metadata": {},
   "outputs": [],
   "source": [
    "# clean up the certificate column\n",
    "df_hospital_certificates['certificate'] = df_hospital_certificates['certificate'].replace(r'^(Zertifizierte |Zertifiziertes )\\s*', '', regex=True)"
   ]
  },
  {
   "cell_type": "code",
   "execution_count": 49,
   "metadata": {},
   "outputs": [],
   "source": [
    "# save certificates data ready for db\n",
    "df_hospital_certificates.to_csv('../data/db_csv/hospital_certificates.csv', index=False)"
   ]
  },
  {
   "cell_type": "markdown",
   "metadata": {},
   "source": [
    "## Hospital departments"
   ]
  },
  {
   "cell_type": "markdown",
   "metadata": {},
   "source": [
    "### Data In"
   ]
  },
  {
   "cell_type": "code",
   "execution_count": 98,
   "metadata": {},
   "outputs": [],
   "source": [
    "# load department labels and hospital department data\n",
    "df_department_labels = pd.read_csv('../data/in/staging/departments_general_dict.csv', dtype={'department_id': str})\n",
    "df_department_focus_labels = pd.read_csv('../data/in/staging/departments_focus_dict.csv', dtype={'department_id': str})\n",
    "df_department_labels_concat = pd.concat([df_department_labels, df_department_focus_labels])\n",
    "df_hospital_departments = pd.read_csv('../data/in/staging/atlas_departments.csv')"
   ]
  },
  {
   "cell_type": "markdown",
   "metadata": {},
   "source": [
    "### Processing"
   ]
  },
  {
   "cell_type": "markdown",
   "metadata": {},
   "source": [
    "#### Prepare for dictionary application"
   ]
  },
  {
   "cell_type": "code",
   "execution_count": 99,
   "metadata": {},
   "outputs": [],
   "source": [
    "# rename department_labeles with 'ohne Differenzierung' (=\"no focus specified\")\n",
    "df_hospital_departments['department_name'] = df_hospital_departments['department_name'].apply(lambda x: x.split('/')[0] if 'ohne Differenzierung' in x else x)\n",
    "\n",
    "# streamline department_labels with '/ ' instead of '/'\n",
    "df_hospital_departments['department_name'] = df_hospital_departments['department_name'].apply(lambda x: x.replace('/ ', '/').replace(' /', '/'))\n",
    "\n",
    "# correct '(Intensivabteilung)' to 'Intensivmedizin'\n",
    "df_hospital_departments['department_name'] = df_hospital_departments['department_name'].apply(lambda x: x.replace(' (Intensivabteilung)', '/Intensivmedizin'))\n",
    "\n",
    "# rename department_label 'Neurologie/Schwerpunkt Schlaganfallpatienten (stroke units, Artikel 7 § 1 Abs. 3 GKV-SolG)'\n",
    "df_hospital_departments['department_name'] = df_hospital_departments['department_name'].replace('Neurologie/Schwerpunkt Schlaganfallpatienten (stroke units, Artikel 7 § 1 Abs. 3 GKV-SolG)', 'Neurologie/Schwerpunkt Schlaganfallpatienten')\n",
    "\n",
    "# rename department_label 'Innere Medizin/Schwerpunkt Schlaganfallpatienten (stroke units, Artikel 7 § 1 Abs. 3 GKV-SolG)'\n",
    "df_hospital_departments['department_name'] = df_hospital_departments['department_name'].replace('Innere Medizin/Schwerpunkt Schlaganfallpatienten (stroke units, Artikel 7 § 1 Abs. 3 GKV-SolG)', 'Innere Medizin/Schwerpunkt Schlaganfallpatienten')\n",
    "\n",
    "# rename department_label 'Orthopädie/Rheumatologie'\n",
    "df_hospital_departments['department_name'] = df_hospital_departments['department_name'].replace('Orthopädie/Rheumatologie', 'Orthopädie/Schwerpunkt Rheumatologie')"
   ]
  },
  {
   "cell_type": "markdown",
   "metadata": {},
   "source": [
    "#### Apply dictionary"
   ]
  },
  {
   "cell_type": "code",
   "execution_count": 100,
   "metadata": {},
   "outputs": [],
   "source": [
    "# create dictionary to translate department labels to department ids\n",
    "departments_dict = {}\n",
    "for department_label in df_department_labels_concat['department_label']:\n",
    "    departments_dict.update({department_label: df_department_labels_concat[df_department_labels_concat['department_label'] == department_label]['department_id'].values[0]})\n",
    "\n",
    "# apply dictionary to rename columns\n",
    "def map_values(value):\n",
    "    return departments_dict.get(value, value)\n",
    "\n",
    "df_hospital_departments['department_id'] = df_hospital_departments['department_name'].apply(map_values)\n",
    "\n",
    "# remove department name column\n",
    "df_hospital_departments = df_hospital_departments.drop(columns=['department_name'])\n",
    "\n",
    "# rename column department_count to treatment_count for database\n",
    "df_hospital_departments = df_hospital_departments.rename(columns={'department_count': 'treatment_count'})\n",
    "\n",
    "# rename column department_label to department_name for database\n",
    "df_hospital_departments = df_hospital_departments.rename(columns={'department_label': 'department_name'})"
   ]
  },
  {
   "cell_type": "markdown",
   "metadata": {},
   "source": [
    "### Data Out"
   ]
  },
  {
   "cell_type": "code",
   "execution_count": 101,
   "metadata": {},
   "outputs": [],
   "source": [
    "# save data ready for database import\n",
    "df_hospital_departments.to_csv('../data/db_csv/hospital_departments.csv', index=False, encoding='utf-8')\n",
    "df_department_labels_concat.to_csv('../data/db_csv/departments_dict.csv', index=False, encoding='utf-8')"
   ]
  },
  {
   "cell_type": "markdown",
   "metadata": {},
   "source": [
    "## Hospital treatments"
   ]
  },
  {
   "cell_type": "code",
   "execution_count": 129,
   "metadata": {},
   "outputs": [],
   "source": [
    "# load treatments data\n",
    "df_hospital_treatments = pd.DataFrame()\n",
    "m = 50\n",
    "for k in range(34):\n",
    "    df_hospital_treatments_ = pd.read_csv(f'../data/in/staging/treatments_chunks/atlas_treatments_sample_{k*m}-{k*m+m-1}.csv', dtype={'hospital_id': str})\n",
    "    df_hospital_treatments = pd.concat([df_hospital_treatments, df_hospital_treatments_])"
   ]
  },
  {
   "cell_type": "code",
   "execution_count": 132,
   "metadata": {},
   "outputs": [],
   "source": [
    "# rename columns for database\n",
    "df_hospital_treatments = df_hospital_treatments.rename(columns={'count_number': 'treatment_count', 'count_label': 'treatment_count_label'})"
   ]
  },
  {
   "cell_type": "code",
   "execution_count": 133,
   "metadata": {},
   "outputs": [],
   "source": [
    "# save data ready for database import\n",
    "df_hospital_treatments.to_csv('../data/db_csv/hospital_treatments.csv', index=False, encoding='utf-8')"
   ]
  },
  {
   "cell_type": "markdown",
   "metadata": {},
   "source": [
    "## Federal states"
   ]
  },
  {
   "cell_type": "code",
   "execution_count": 99,
   "metadata": {},
   "outputs": [],
   "source": [
    "# load zip dict data\n",
    "df_zip_dict = pd.read_csv('../data/in/raw/zip_dict/georef-germany-postleitzahl.csv', dtype={'Name': str}, sep=';')[['Name', 'Land name']]\n",
    "df_zip_dict = df_zip_dict.rename(columns={'Name': 'zip', 'Land name': 'federal_state_name'})"
   ]
  },
  {
   "cell_type": "code",
   "execution_count": 104,
   "metadata": {},
   "outputs": [],
   "source": [
    "# load and prepare population data\n",
    "df_population = pd.read_csv('../data/in/raw/federal_states/Bevölkerung - Bundesländer.csv', dtype={'Gesamt': str})[['Bundesland', 'Gesamt']]\n",
    "df_population = df_population.rename(columns={'Bundesland': 'federal_state_name', 'Gesamt': 'population'})\n",
    "df_population['population'] = df_population['population'].apply(lambda x: x.replace(' ', '')).astype(int)\n",
    "\n",
    "# load and prepare area data\n",
    "df_area = pd.read_csv('../data/in/raw/federal_states/Gebietsfläche.csv', dtype={'Gebietsfläche': str})[['Bundesland', 'Gebietsfläche']]\n",
    "df_area = df_area.rename(columns={'Bundesland': 'federal_state_name', 'Gebietsfläche': 'area'})\n",
    "df_area['area'] = df_area['area'].replace(',', '.', regex=True).astype(float)"
   ]
  },
  {
   "cell_type": "code",
   "execution_count": 100,
   "metadata": {},
   "outputs": [],
   "source": [
    "# translate state codes\n",
    "federal_state_codes = {\n",
    "    'Baden-Württemberg': 'BW',\n",
    "    'Bayern': 'BY',\n",
    "    'Berlin': 'BE',\n",
    "    'Brandenburg': 'BB',\n",
    "    'Bremen': 'HB',\n",
    "    'Hamburg': 'HH',\n",
    "    'Hessen': 'HE',\n",
    "    'Niedersachsen': 'NI',\n",
    "    'Mecklenburg-Vorpommern': 'MV',\n",
    "    'Nordrhein-Westfalen': 'NW',\n",
    "    'Rheinland-Pfalz': 'RP',\n",
    "    'Saarland': 'SL',\n",
    "    'Sachsen': 'SN',\n",
    "    'Sachsen-Anhalt': 'ST',\n",
    "    'Schleswig-Holstein': 'SH',\n",
    "    'Thüringen': 'TH'\n",
    "}\n",
    "\n",
    "df_zip_dict['federal_state_code'] = df_zip_dict['federal_state_name'].map(federal_state_codes)"
   ]
  },
  {
   "cell_type": "code",
   "execution_count": 101,
   "metadata": {},
   "outputs": [],
   "source": [
    "# create federal state dataframe\n",
    "df_federal_states = pd.DataFrame({'federal_state_code': list(federal_state_codes.values()), 'federal_state_name': list(federal_state_codes.keys())})"
   ]
  },
  {
   "cell_type": "code",
   "execution_count": 105,
   "metadata": {},
   "outputs": [],
   "source": [
    "# merge federal state  with area data\n",
    "df_federal_states = pd.merge(df_federal_states, df_area, on='federal_state_name')\n",
    "\n",
    "# merge federal states with population data\n",
    "df_federal_states = pd.merge(df_federal_states, df_population, on='federal_state_name')"
   ]
  },
  {
   "cell_type": "code",
   "execution_count": 108,
   "metadata": {},
   "outputs": [],
   "source": [
    "# save data ready for database import\n",
    "df_federal_states.to_csv('../data/db_csv/federal_states.csv', index=False, encoding='utf-8')"
   ]
  },
  {
   "cell_type": "markdown",
   "metadata": {},
   "source": [
    "## Places and Hospital locations"
   ]
  },
  {
   "cell_type": "markdown",
   "metadata": {},
   "source": [
    "### Data In"
   ]
  },
  {
   "cell_type": "code",
   "execution_count": 61,
   "metadata": {},
   "outputs": [],
   "source": [
    "# load places data\n",
    "df_places = pd.read_json('../data/in/raw/atlas/german-places.json', dtype={'p': str})\n",
    "df_places = df_places.rename(columns={'p': 'zip', 'c': 'city_district', 'm': 'name', 'd': 'rural_district', 'lt': 'latitude', 'ln': 'longitude'}).drop(columns=['ct'])\n",
    "\n",
    "# load hospital_locations data\n",
    "df_hospital_locations = pd.read_csv('../data/in/staging/hospital_locations.csv', dtype={'hospital_id': str, 'zip': str})"
   ]
  },
  {
   "cell_type": "markdown",
   "metadata": {},
   "source": [
    "### Processing"
   ]
  },
  {
   "cell_type": "code",
   "execution_count": 62,
   "metadata": {},
   "outputs": [],
   "source": [
    "# get federal state code for each hospital location\n",
    "df_hospital_locations['federal_state_code'] = df_hospital_locations['zip'].apply(lambda x: df_zip_dict[df_zip_dict['zip'] == x]['federal_state_code'].values[0] if len(df_zip_dict[df_zip_dict['zip'] == x]['federal_state_code'].values) > 0 else np.nan)\n",
    "\n",
    "# get federal state code for missing zips in df_zip_dict for hospital_locations\n",
    "missing_zips_dict_locations = {\n",
    "    '99437': 'TH',\n",
    "    '19049': 'MV',\n",
    "}\n",
    "\n",
    "df_hospital_locations['federal_state_code'] = df_hospital_locations['federal_state_code'].fillna(df_hospital_locations['zip'].map(missing_zips_dict_locations))"
   ]
  },
  {
   "cell_type": "code",
   "execution_count": 63,
   "metadata": {},
   "outputs": [],
   "source": [
    "# get federal state code for all places\n",
    "df_places['federal_state_code'] = df_places['zip'].apply(lambda x: df_zip_dict[df_zip_dict['zip'] == x]['federal_state_code'].values[0] if len(df_zip_dict[df_zip_dict['zip'] == x]['federal_state_code'].values) > 0 else np.nan)\n",
    "\n",
    "# get federal state code for missing zips in df_zip_dict for places\n",
    "missing_zips_dict_places = {\n",
    "    '60312': 'HE',\n",
    "    '60315': 'HE',\n",
    "    '64743': 'HE',\n",
    "    '81248': 'BY',\n",
    "    '99331': 'TH'\n",
    "}\n",
    "\n",
    "df_places['federal_state_code'] = df_places['federal_state_code'].fillna(df_places['zip'].map(missing_zips_dict_places))"
   ]
  },
  {
   "cell_type": "markdown",
   "metadata": {},
   "source": [
    "### Data Out"
   ]
  },
  {
   "cell_type": "code",
   "execution_count": 64,
   "metadata": {},
   "outputs": [],
   "source": [
    "# save data ready for database import\n",
    "df_hospital_locations.to_csv('../data/db_csv/hospital_locations.csv', index=False, encoding='utf-8')\n",
    "df_places.to_csv('../data/db_csv/places.csv', index=False, encoding='utf-8')"
   ]
  }
 ],
 "metadata": {
  "kernelspec": {
   "display_name": ".venv",
   "language": "python",
   "name": "python3"
  },
  "language_info": {
   "codemirror_mode": {
    "name": "ipython",
    "version": 3
   },
   "file_extension": ".py",
   "mimetype": "text/x-python",
   "name": "python",
   "nbconvert_exporter": "python",
   "pygments_lexer": "ipython3",
   "version": "3.12.4"
  }
 },
 "nbformat": 4,
 "nbformat_minor": 2
}
